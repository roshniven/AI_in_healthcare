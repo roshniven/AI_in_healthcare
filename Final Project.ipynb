{
 "cells": [
  {
   "cell_type": "code",
   "execution_count": 1,
   "id": "aa8098e3",
   "metadata": {},
   "outputs": [
    {
     "name": "stdout",
     "output_type": "stream",
     "text": [
      "Collecting typing-inspect==0.8.0\n",
      "  Obtaining dependency information for typing-inspect==0.8.0 from https://files.pythonhosted.org/packages/be/01/59b743dca816c4b6ca891b9e0f84d20513cd61bdbbaa8615de8f5aab68c1/typing_inspect-0.8.0-py3-none-any.whl.metadata\n",
      "  Downloading typing_inspect-0.8.0-py3-none-any.whl.metadata (1.5 kB)\n",
      "Collecting typing_extensions==4.5.0\n",
      "  Obtaining dependency information for typing_extensions==4.5.0 from https://files.pythonhosted.org/packages/31/25/5abcd82372d3d4a3932e1fa8c3dbf9efac10cc7c0d16e78467460571b404/typing_extensions-4.5.0-py3-none-any.whl.metadata\n",
      "  Downloading typing_extensions-4.5.0-py3-none-any.whl.metadata (8.5 kB)\n",
      "Requirement already satisfied: mypy-extensions>=0.3.0 in /Users/roshnivenkat/anaconda3/lib/python3.11/site-packages (from typing-inspect==0.8.0) (0.4.3)\n",
      "Downloading typing_inspect-0.8.0-py3-none-any.whl (8.7 kB)\n",
      "Downloading typing_extensions-4.5.0-py3-none-any.whl (27 kB)\n",
      "Installing collected packages: typing_extensions, typing-inspect\n",
      "  Attempting uninstall: typing_extensions\n",
      "    Found existing installation: typing_extensions 4.12.2\n",
      "    Uninstalling typing_extensions-4.12.2:\n",
      "      Successfully uninstalled typing_extensions-4.12.2\n",
      "\u001b[31mERROR: pip's dependency resolver does not currently take into account all the packages that are installed. This behaviour is the source of the following dependency conflicts.\n",
      "torch 2.6.0 requires typing-extensions>=4.10.0, but you have typing-extensions 4.5.0 which is incompatible.\n",
      "sqlalchemy 2.0.29 requires typing-extensions>=4.6.0, but you have typing-extensions 4.5.0 which is incompatible.\u001b[0m\u001b[31m\n",
      "\u001b[0mSuccessfully installed typing-inspect-0.8.0 typing_extensions-4.5.0\n",
      "Collecting pydantic\n",
      "  Obtaining dependency information for pydantic from https://files.pythonhosted.org/packages/f4/3c/8cc1cc84deffa6e25d2d0c688ebb80635dfdbf1dbea3e30c541c8cf4d860/pydantic-2.10.6-py3-none-any.whl.metadata\n",
      "  Downloading pydantic-2.10.6-py3-none-any.whl.metadata (30 kB)\n",
      "Collecting annotated-types>=0.6.0 (from pydantic)\n",
      "  Obtaining dependency information for annotated-types>=0.6.0 from https://files.pythonhosted.org/packages/78/b6/6307fbef88d9b5ee7421e68d78a9f162e0da4900bc5f5793f6d3d0e34fb8/annotated_types-0.7.0-py3-none-any.whl.metadata\n",
      "  Downloading annotated_types-0.7.0-py3-none-any.whl.metadata (15 kB)\n",
      "Collecting pydantic-core==2.27.2 (from pydantic)\n",
      "  Obtaining dependency information for pydantic-core==2.27.2 from https://files.pythonhosted.org/packages/9e/e3/71fe85af2021f3f386da42d291412e5baf6ce7716bd7101ea49c810eda90/pydantic_core-2.27.2-cp311-cp311-macosx_11_0_arm64.whl.metadata\n",
      "  Downloading pydantic_core-2.27.2-cp311-cp311-macosx_11_0_arm64.whl.metadata (6.6 kB)\n",
      "Collecting typing-extensions>=4.12.2 (from pydantic)\n",
      "  Obtaining dependency information for typing-extensions>=4.12.2 from https://files.pythonhosted.org/packages/26/9f/ad63fc0248c5379346306f8668cda6e2e2e9c95e01216d2b8ffd9ff037d0/typing_extensions-4.12.2-py3-none-any.whl.metadata\n",
      "  Using cached typing_extensions-4.12.2-py3-none-any.whl.metadata (3.0 kB)\n",
      "Downloading pydantic-2.10.6-py3-none-any.whl (431 kB)\n",
      "\u001b[2K   \u001b[90m━━━━━━━━━━━━━━━━━━━━━━━━━━━━━━━━━━━━━━━━\u001b[0m \u001b[32m431.7/431.7 kB\u001b[0m \u001b[31m2.4 MB/s\u001b[0m eta \u001b[36m0:00:00\u001b[0ma \u001b[36m0:00:01\u001b[0m\n",
      "\u001b[?25hDownloading pydantic_core-2.27.2-cp311-cp311-macosx_11_0_arm64.whl (1.8 MB)\n",
      "\u001b[2K   \u001b[90m━━━━━━━━━━━━━━━━━━━━━━━━━━━━━━━━━━━━━━━━\u001b[0m \u001b[32m1.8/1.8 MB\u001b[0m \u001b[31m7.7 MB/s\u001b[0m eta \u001b[36m0:00:00\u001b[0ma \u001b[36m0:00:01\u001b[0mm\n",
      "\u001b[?25hDownloading annotated_types-0.7.0-py3-none-any.whl (13 kB)\n",
      "Using cached typing_extensions-4.12.2-py3-none-any.whl (37 kB)\n",
      "Installing collected packages: typing-extensions, annotated-types, pydantic-core, pydantic\n",
      "  Attempting uninstall: typing-extensions\n",
      "    Found existing installation: typing_extensions 4.5.0\n",
      "    Uninstalling typing_extensions-4.5.0:\n",
      "      Successfully uninstalled typing_extensions-4.5.0\n",
      "Successfully installed annotated-types-0.7.0 pydantic-2.10.6 pydantic-core-2.27.2 typing-extensions-4.12.2\n",
      "Collecting pydantic==1.10.11\n",
      "  Obtaining dependency information for pydantic==1.10.11 from https://files.pythonhosted.org/packages/93/63/c2b91f7482bf8e5b7166dba6558287d906587f269158b8fad1146031fdc3/pydantic-1.10.11-cp311-cp311-macosx_11_0_arm64.whl.metadata\n",
      "  Downloading pydantic-1.10.11-cp311-cp311-macosx_11_0_arm64.whl.metadata (148 kB)\n",
      "\u001b[2K     \u001b[90m━━━━━━━━━━━━━━━━━━━━━━━━━━━━━━━━━━━━━━━\u001b[0m \u001b[32m149.0/149.0 kB\u001b[0m \u001b[31m3.2 MB/s\u001b[0m eta \u001b[36m0:00:00\u001b[0ma \u001b[36m0:00:01\u001b[0m\n",
      "\u001b[?25hRequirement already satisfied: typing-extensions>=4.2.0 in /Users/roshnivenkat/anaconda3/lib/python3.11/site-packages (from pydantic==1.10.11) (4.12.2)\n",
      "Downloading pydantic-1.10.11-cp311-cp311-macosx_11_0_arm64.whl (2.5 MB)\n",
      "\u001b[2K   \u001b[90m━━━━━━━━━━━━━━━━━━━━━━━━━━━━━━━━━━━━━━━━\u001b[0m \u001b[32m2.5/2.5 MB\u001b[0m \u001b[31m16.2 MB/s\u001b[0m eta \u001b[36m0:00:00\u001b[0m00:01\u001b[0m00:01\u001b[0m\n",
      "\u001b[?25hInstalling collected packages: pydantic\n",
      "  Attempting uninstall: pydantic\n",
      "    Found existing installation: pydantic 2.10.6\n",
      "    Uninstalling pydantic-2.10.6:\n",
      "      Successfully uninstalled pydantic-2.10.6\n",
      "Successfully installed pydantic-1.10.11\n",
      "Collecting langchain\n",
      "  Obtaining dependency information for langchain from https://files.pythonhosted.org/packages/18/7d/0f4cc3317634195381f87c5d90268f29b9a31fda62aa7a7f36a1c27b06f3/langchain-0.3.19-py3-none-any.whl.metadata\n",
      "  Downloading langchain-0.3.19-py3-none-any.whl.metadata (7.9 kB)\n",
      "Collecting langchain-core<1.0.0,>=0.3.35 (from langchain)\n",
      "  Obtaining dependency information for langchain-core<1.0.0,>=0.3.35 from https://files.pythonhosted.org/packages/6a/f5/9ce2a94bc49b64c0bf53b17524d5fc5c926070e911b11d489979d47d5491/langchain_core-0.3.37-py3-none-any.whl.metadata\n",
      "  Downloading langchain_core-0.3.37-py3-none-any.whl.metadata (5.9 kB)\n",
      "Collecting langchain-text-splitters<1.0.0,>=0.3.6 (from langchain)\n",
      "  Obtaining dependency information for langchain-text-splitters<1.0.0,>=0.3.6 from https://files.pythonhosted.org/packages/4c/f8/6b82af988e65af9697f6a2f25373fb173fd32d48b62772a8773c5184c870/langchain_text_splitters-0.3.6-py3-none-any.whl.metadata\n",
      "  Downloading langchain_text_splitters-0.3.6-py3-none-any.whl.metadata (1.9 kB)\n",
      "Collecting langsmith<0.4,>=0.1.17 (from langchain)\n",
      "  Obtaining dependency information for langsmith<0.4,>=0.1.17 from https://files.pythonhosted.org/packages/27/2c/8e48e5c264022b03555fa3c5367c58f424d50f6a562a7efb20a178e1d9e9/langsmith-0.3.10-py3-none-any.whl.metadata\n",
      "  Downloading langsmith-0.3.10-py3-none-any.whl.metadata (14 kB)\n",
      "Collecting pydantic<3.0.0,>=2.7.4 (from langchain)\n",
      "  Obtaining dependency information for pydantic<3.0.0,>=2.7.4 from https://files.pythonhosted.org/packages/f4/3c/8cc1cc84deffa6e25d2d0c688ebb80635dfdbf1dbea3e30c541c8cf4d860/pydantic-2.10.6-py3-none-any.whl.metadata\n",
      "  Using cached pydantic-2.10.6-py3-none-any.whl.metadata (30 kB)\n",
      "Requirement already satisfied: SQLAlchemy<3,>=1.4 in /Users/roshnivenkat/anaconda3/lib/python3.11/site-packages (from langchain) (2.0.29)\n",
      "Requirement already satisfied: requests<3,>=2 in /Users/roshnivenkat/anaconda3/lib/python3.11/site-packages (from langchain) (2.31.0)\n",
      "Requirement already satisfied: PyYAML>=5.3 in /Users/roshnivenkat/anaconda3/lib/python3.11/site-packages (from langchain) (6.0)\n",
      "Requirement already satisfied: aiohttp<4.0.0,>=3.8.3 in /Users/roshnivenkat/anaconda3/lib/python3.11/site-packages (from langchain) (3.8.3)\n",
      "Requirement already satisfied: tenacity!=8.4.0,<10,>=8.1.0 in /Users/roshnivenkat/anaconda3/lib/python3.11/site-packages (from langchain) (8.2.2)\n",
      "Collecting numpy<2,>=1.26.4 (from langchain)\n",
      "  Obtaining dependency information for numpy<2,>=1.26.4 from https://files.pythonhosted.org/packages/1a/2e/151484f49fd03944c4a3ad9c418ed193cfd02724e138ac8a9505d056c582/numpy-1.26.4-cp311-cp311-macosx_11_0_arm64.whl.metadata\n",
      "  Downloading numpy-1.26.4-cp311-cp311-macosx_11_0_arm64.whl.metadata (114 kB)\n",
      "\u001b[2K     \u001b[90m━━━━━━━━━━━━━━━━━━━━━━━━━━━━━━━━━━━━━━━\u001b[0m \u001b[32m114.8/114.8 kB\u001b[0m \u001b[31m3.8 MB/s\u001b[0m eta \u001b[36m0:00:00\u001b[0m\n",
      "\u001b[?25hRequirement already satisfied: attrs>=17.3.0 in /Users/roshnivenkat/anaconda3/lib/python3.11/site-packages (from aiohttp<4.0.0,>=3.8.3->langchain) (23.2.0)\n",
      "Requirement already satisfied: charset-normalizer<3.0,>=2.0 in /Users/roshnivenkat/anaconda3/lib/python3.11/site-packages (from aiohttp<4.0.0,>=3.8.3->langchain) (2.0.4)\n",
      "Requirement already satisfied: multidict<7.0,>=4.5 in /Users/roshnivenkat/anaconda3/lib/python3.11/site-packages (from aiohttp<4.0.0,>=3.8.3->langchain) (6.0.2)\n",
      "Requirement already satisfied: async-timeout<5.0,>=4.0.0a3 in /Users/roshnivenkat/anaconda3/lib/python3.11/site-packages (from aiohttp<4.0.0,>=3.8.3->langchain) (4.0.2)\n",
      "Requirement already satisfied: yarl<2.0,>=1.0 in /Users/roshnivenkat/anaconda3/lib/python3.11/site-packages (from aiohttp<4.0.0,>=3.8.3->langchain) (1.8.1)\n",
      "Requirement already satisfied: frozenlist>=1.1.1 in /Users/roshnivenkat/anaconda3/lib/python3.11/site-packages (from aiohttp<4.0.0,>=3.8.3->langchain) (1.3.3)\n",
      "Requirement already satisfied: aiosignal>=1.1.2 in /Users/roshnivenkat/anaconda3/lib/python3.11/site-packages (from aiohttp<4.0.0,>=3.8.3->langchain) (1.2.0)\n"
     ]
    },
    {
     "name": "stdout",
     "output_type": "stream",
     "text": [
      "Collecting jsonpatch<2.0,>=1.33 (from langchain-core<1.0.0,>=0.3.35->langchain)\n",
      "  Obtaining dependency information for jsonpatch<2.0,>=1.33 from https://files.pythonhosted.org/packages/73/07/02e16ed01e04a374e644b575638ec7987ae846d25ad97bcc9945a3ee4b0e/jsonpatch-1.33-py2.py3-none-any.whl.metadata\n",
      "  Downloading jsonpatch-1.33-py2.py3-none-any.whl.metadata (3.0 kB)\n",
      "Requirement already satisfied: packaging<25,>=23.2 in /Users/roshnivenkat/anaconda3/lib/python3.11/site-packages (from langchain-core<1.0.0,>=0.3.35->langchain) (23.2)\n",
      "Requirement already satisfied: typing-extensions>=4.7 in /Users/roshnivenkat/anaconda3/lib/python3.11/site-packages (from langchain-core<1.0.0,>=0.3.35->langchain) (4.12.2)\n",
      "Collecting httpx<1,>=0.23.0 (from langsmith<0.4,>=0.1.17->langchain)\n",
      "  Obtaining dependency information for httpx<1,>=0.23.0 from https://files.pythonhosted.org/packages/2a/39/e50c7c3a983047577ee07d2a9e53faf5a69493943ec3f6a384bdc792deb2/httpx-0.28.1-py3-none-any.whl.metadata\n",
      "  Downloading httpx-0.28.1-py3-none-any.whl.metadata (7.1 kB)\n",
      "Collecting orjson<4.0.0,>=3.9.14 (from langsmith<0.4,>=0.1.17->langchain)\n",
      "  Obtaining dependency information for orjson<4.0.0,>=3.9.14 from https://files.pythonhosted.org/packages/7a/a2/21b25ce4a2c71dbb90948ee81bd7a42b4fbfc63162e57faf83157d5540ae/orjson-3.10.15-cp311-cp311-macosx_10_15_x86_64.macosx_11_0_arm64.macosx_10_15_universal2.whl.metadata\n",
      "  Downloading orjson-3.10.15-cp311-cp311-macosx_10_15_x86_64.macosx_11_0_arm64.macosx_10_15_universal2.whl.metadata (41 kB)\n",
      "\u001b[2K     \u001b[90m━━━━━━━━━━━━━━━━━━━━━━━━━━━━━━━━━━━━━━━━\u001b[0m \u001b[32m41.8/41.8 kB\u001b[0m \u001b[31m3.1 MB/s\u001b[0m eta \u001b[36m0:00:00\u001b[0m\n",
      "\u001b[?25hRequirement already satisfied: requests-toolbelt<2.0.0,>=1.0.0 in /Users/roshnivenkat/anaconda3/lib/python3.11/site-packages (from langsmith<0.4,>=0.1.17->langchain) (1.0.0)\n",
      "Collecting zstandard<0.24.0,>=0.23.0 (from langsmith<0.4,>=0.1.17->langchain)\n",
      "  Obtaining dependency information for zstandard<0.24.0,>=0.23.0 from https://files.pythonhosted.org/packages/e8/46/66d5b55f4d737dd6ab75851b224abf0afe5774976fe511a54d2eb9063a41/zstandard-0.23.0-cp311-cp311-macosx_11_0_arm64.whl.metadata\n",
      "  Downloading zstandard-0.23.0-cp311-cp311-macosx_11_0_arm64.whl.metadata (3.0 kB)\n",
      "Requirement already satisfied: annotated-types>=0.6.0 in /Users/roshnivenkat/anaconda3/lib/python3.11/site-packages (from pydantic<3.0.0,>=2.7.4->langchain) (0.7.0)\n",
      "Requirement already satisfied: pydantic-core==2.27.2 in /Users/roshnivenkat/anaconda3/lib/python3.11/site-packages (from pydantic<3.0.0,>=2.7.4->langchain) (2.27.2)\n",
      "Requirement already satisfied: idna<4,>=2.5 in /Users/roshnivenkat/anaconda3/lib/python3.11/site-packages (from requests<3,>=2->langchain) (3.4)\n",
      "Requirement already satisfied: urllib3<3,>=1.21.1 in /Users/roshnivenkat/anaconda3/lib/python3.11/site-packages (from requests<3,>=2->langchain) (1.26.16)\n",
      "Requirement already satisfied: certifi>=2017.4.17 in /Users/roshnivenkat/anaconda3/lib/python3.11/site-packages (from requests<3,>=2->langchain) (2023.7.22)\n",
      "Requirement already satisfied: anyio in /Users/roshnivenkat/anaconda3/lib/python3.11/site-packages (from httpx<1,>=0.23.0->langsmith<0.4,>=0.1.17->langchain) (3.5.0)\n",
      "Collecting httpcore==1.* (from httpx<1,>=0.23.0->langsmith<0.4,>=0.1.17->langchain)\n",
      "  Obtaining dependency information for httpcore==1.* from https://files.pythonhosted.org/packages/87/f5/72347bc88306acb359581ac4d52f23c0ef445b57157adedb9aee0cd689d2/httpcore-1.0.7-py3-none-any.whl.metadata\n",
      "  Downloading httpcore-1.0.7-py3-none-any.whl.metadata (21 kB)\n",
      "Collecting h11<0.15,>=0.13 (from httpcore==1.*->httpx<1,>=0.23.0->langsmith<0.4,>=0.1.17->langchain)\n",
      "  Obtaining dependency information for h11<0.15,>=0.13 from https://files.pythonhosted.org/packages/95/04/ff642e65ad6b90db43e668d70ffb6736436c7ce41fcc549f4e9472234127/h11-0.14.0-py3-none-any.whl.metadata\n",
      "  Downloading h11-0.14.0-py3-none-any.whl.metadata (8.2 kB)\n",
      "Requirement already satisfied: jsonpointer>=1.9 in /Users/roshnivenkat/anaconda3/lib/python3.11/site-packages (from jsonpatch<2.0,>=1.33->langchain-core<1.0.0,>=0.3.35->langchain) (2.1)\n",
      "Requirement already satisfied: sniffio>=1.1 in /Users/roshnivenkat/anaconda3/lib/python3.11/site-packages (from anyio->httpx<1,>=0.23.0->langsmith<0.4,>=0.1.17->langchain) (1.2.0)\n",
      "Downloading langchain-0.3.19-py3-none-any.whl (1.0 MB)\n",
      "\u001b[2K   \u001b[90m━━━━━━━━━━━━━━━━━━━━━━━━━━━━━━━━━━━━━━━━\u001b[0m \u001b[32m1.0/1.0 MB\u001b[0m \u001b[31m12.6 MB/s\u001b[0m eta \u001b[36m0:00:00\u001b[0m00:01\u001b[0m0:01\u001b[0m\n",
      "\u001b[?25hDownloading langchain_core-0.3.37-py3-none-any.whl (413 kB)\n",
      "\u001b[2K   \u001b[90m━━━━━━━━━━━━━━━━━━━━━━━━━━━━━━━━━━━━━━━━\u001b[0m \u001b[32m413.7/413.7 kB\u001b[0m \u001b[31m24.6 MB/s\u001b[0m eta \u001b[36m0:00:00\u001b[0m\n",
      "\u001b[?25hDownloading langchain_text_splitters-0.3.6-py3-none-any.whl (31 kB)\n",
      "Downloading langsmith-0.3.10-py3-none-any.whl (333 kB)\n",
      "\u001b[2K   \u001b[90m━━━━━━━━━━━━━━━━━━━━━━━━━━━━━━━━━━━━━━━━\u001b[0m \u001b[32m333.0/333.0 kB\u001b[0m \u001b[31m22.6 MB/s\u001b[0m eta \u001b[36m0:00:00\u001b[0m\n",
      "\u001b[?25hDownloading numpy-1.26.4-cp311-cp311-macosx_11_0_arm64.whl (14.0 MB)\n",
      "\u001b[2K   \u001b[90m━━━━━━━━━━━━━━━━━━━━━━━━━━━━━━━━━━━━━━━━\u001b[0m \u001b[32m14.0/14.0 MB\u001b[0m \u001b[31m30.3 MB/s\u001b[0m eta \u001b[36m0:00:00\u001b[0m00:01\u001b[0m00:01\u001b[0m\n",
      "\u001b[?25hUsing cached pydantic-2.10.6-py3-none-any.whl (431 kB)\n",
      "Downloading httpx-0.28.1-py3-none-any.whl (73 kB)\n",
      "\u001b[2K   \u001b[90m━━━━━━━━━━━━━━━━━━━━━━━━━━━━━━━━━━━━━━━━\u001b[0m \u001b[32m73.5/73.5 kB\u001b[0m \u001b[31m5.7 MB/s\u001b[0m eta \u001b[36m0:00:00\u001b[0m\n",
      "\u001b[?25hDownloading httpcore-1.0.7-py3-none-any.whl (78 kB)\n",
      "\u001b[2K   \u001b[90m━━━━━━━━━━━━━━━━━━━━━━━━━━━━━━━━━━━━━━━━\u001b[0m \u001b[32m78.6/78.6 kB\u001b[0m \u001b[31m8.9 MB/s\u001b[0m eta \u001b[36m0:00:00\u001b[0m\n",
      "\u001b[?25hDownloading jsonpatch-1.33-py2.py3-none-any.whl (12 kB)\n",
      "Downloading orjson-3.10.15-cp311-cp311-macosx_10_15_x86_64.macosx_11_0_arm64.macosx_10_15_universal2.whl (249 kB)\n",
      "\u001b[2K   \u001b[90m━━━━━━━━━━━━━━━━━━━━━━━━━━━━━━━━━━━━━━━━\u001b[0m \u001b[32m249.5/249.5 kB\u001b[0m \u001b[31m20.9 MB/s\u001b[0m eta \u001b[36m0:00:00\u001b[0m\n",
      "\u001b[?25hDownloading zstandard-0.23.0-cp311-cp311-macosx_11_0_arm64.whl (633 kB)\n",
      "\u001b[2K   \u001b[90m━━━━━━━━━━━━━━━━━━━━━━━━━━━━━━━━━━━━━━━━\u001b[0m \u001b[32m633.7/633.7 kB\u001b[0m \u001b[31m27.4 MB/s\u001b[0m eta \u001b[36m0:00:00\u001b[0m\n",
      "\u001b[?25hDownloading h11-0.14.0-py3-none-any.whl (58 kB)\n",
      "\u001b[2K   \u001b[90m━━━━━━━━━━━━━━━━━━━━━━━━━━━━━━━━━━━━━━━━\u001b[0m \u001b[32m58.3/58.3 kB\u001b[0m \u001b[31m7.1 MB/s\u001b[0m eta \u001b[36m0:00:00\u001b[0m\n",
      "\u001b[?25hInstalling collected packages: zstandard, orjson, numpy, jsonpatch, h11, pydantic, httpcore, httpx, langsmith, langchain-core, langchain-text-splitters, langchain\n",
      "  Attempting uninstall: zstandard\n",
      "    Found existing installation: zstandard 0.19.0\n",
      "    Uninstalling zstandard-0.19.0:\n",
      "      Successfully uninstalled zstandard-0.19.0\n",
      "  Attempting uninstall: numpy\n",
      "    Found existing installation: numpy 1.24.3\n",
      "    Uninstalling numpy-1.24.3:\n",
      "      Successfully uninstalled numpy-1.24.3\n",
      "  Attempting uninstall: jsonpatch\n",
      "    Found existing installation: jsonpatch 1.32\n",
      "    Uninstalling jsonpatch-1.32:\n",
      "      Successfully uninstalled jsonpatch-1.32\n",
      "  Attempting uninstall: pydantic\n",
      "    Found existing installation: pydantic 1.10.11\n",
      "    Uninstalling pydantic-1.10.11:\n",
      "      Successfully uninstalled pydantic-1.10.11\n",
      "\u001b[31mERROR: pip's dependency resolver does not currently take into account all the packages that are installed. This behaviour is the source of the following dependency conflicts.\n",
      "gensim 4.3.0 requires FuzzyTM>=0.4.0, which is not installed.\n",
      "numba 0.57.0 requires numpy<1.25,>=1.21, but you have numpy 1.26.4 which is incompatible.\u001b[0m\u001b[31m\n",
      "\u001b[0mSuccessfully installed h11-0.14.0 httpcore-1.0.7 httpx-0.28.1 jsonpatch-1.33 langchain-0.3.19 langchain-core-0.3.37 langchain-text-splitters-0.3.6 langsmith-0.3.10 numpy-1.26.4 orjson-3.10.15 pydantic-2.10.6 zstandard-0.23.0\n",
      "Collecting langchain-openai\n",
      "  Obtaining dependency information for langchain-openai from https://files.pythonhosted.org/packages/b5/49/302754c09f955e4a240efe83e48f4e79149d50ca52b3f4731365f1be94b1/langchain_openai-0.3.6-py3-none-any.whl.metadata\n",
      "  Downloading langchain_openai-0.3.6-py3-none-any.whl.metadata (2.3 kB)\n",
      "Requirement already satisfied: langchain-core<1.0.0,>=0.3.35 in /Users/roshnivenkat/anaconda3/lib/python3.11/site-packages (from langchain-openai) (0.3.37)\n",
      "Collecting openai<2.0.0,>=1.58.1 (from langchain-openai)\n",
      "  Obtaining dependency information for openai<2.0.0,>=1.58.1 from https://files.pythonhosted.org/packages/9a/1a/e62718f311daa26d208800976d7944e5ee6d503e1ea474522b2a15a904bb/openai-1.64.0-py3-none-any.whl.metadata\n"
     ]
    },
    {
     "name": "stdout",
     "output_type": "stream",
     "text": [
      "  Downloading openai-1.64.0-py3-none-any.whl.metadata (27 kB)\n",
      "Collecting tiktoken<1,>=0.7 (from langchain-openai)\n",
      "  Obtaining dependency information for tiktoken<1,>=0.7 from https://files.pythonhosted.org/packages/3f/86/55d9d1f5b5a7e1164d0f1538a85529b5fcba2b105f92db3622e5d7de6522/tiktoken-0.9.0-cp311-cp311-macosx_11_0_arm64.whl.metadata\n",
      "  Downloading tiktoken-0.9.0-cp311-cp311-macosx_11_0_arm64.whl.metadata (6.7 kB)\n",
      "Requirement already satisfied: langsmith<0.4,>=0.1.125 in /Users/roshnivenkat/anaconda3/lib/python3.11/site-packages (from langchain-core<1.0.0,>=0.3.35->langchain-openai) (0.3.10)\n",
      "Requirement already satisfied: tenacity!=8.4.0,<10.0.0,>=8.1.0 in /Users/roshnivenkat/anaconda3/lib/python3.11/site-packages (from langchain-core<1.0.0,>=0.3.35->langchain-openai) (8.2.2)\n",
      "Requirement already satisfied: jsonpatch<2.0,>=1.33 in /Users/roshnivenkat/anaconda3/lib/python3.11/site-packages (from langchain-core<1.0.0,>=0.3.35->langchain-openai) (1.33)\n",
      "Requirement already satisfied: PyYAML>=5.3 in /Users/roshnivenkat/anaconda3/lib/python3.11/site-packages (from langchain-core<1.0.0,>=0.3.35->langchain-openai) (6.0)\n",
      "Requirement already satisfied: packaging<25,>=23.2 in /Users/roshnivenkat/anaconda3/lib/python3.11/site-packages (from langchain-core<1.0.0,>=0.3.35->langchain-openai) (23.2)\n",
      "Requirement already satisfied: typing-extensions>=4.7 in /Users/roshnivenkat/anaconda3/lib/python3.11/site-packages (from langchain-core<1.0.0,>=0.3.35->langchain-openai) (4.12.2)\n",
      "Requirement already satisfied: pydantic<3.0.0,>=2.5.2 in /Users/roshnivenkat/anaconda3/lib/python3.11/site-packages (from langchain-core<1.0.0,>=0.3.35->langchain-openai) (2.10.6)\n",
      "Requirement already satisfied: anyio<5,>=3.5.0 in /Users/roshnivenkat/anaconda3/lib/python3.11/site-packages (from openai<2.0.0,>=1.58.1->langchain-openai) (3.5.0)\n",
      "Collecting distro<2,>=1.7.0 (from openai<2.0.0,>=1.58.1->langchain-openai)\n",
      "  Obtaining dependency information for distro<2,>=1.7.0 from https://files.pythonhosted.org/packages/12/b3/231ffd4ab1fc9d679809f356cebee130ac7daa00d6d6f3206dd4fd137e9e/distro-1.9.0-py3-none-any.whl.metadata\n",
      "  Downloading distro-1.9.0-py3-none-any.whl.metadata (6.8 kB)\n",
      "Requirement already satisfied: httpx<1,>=0.23.0 in /Users/roshnivenkat/anaconda3/lib/python3.11/site-packages (from openai<2.0.0,>=1.58.1->langchain-openai) (0.28.1)\n",
      "Collecting jiter<1,>=0.4.0 (from openai<2.0.0,>=1.58.1->langchain-openai)\n",
      "  Obtaining dependency information for jiter<1,>=0.4.0 from https://files.pythonhosted.org/packages/f5/97/0468bc9eeae43079aaa5feb9267964e496bf13133d469cfdc135498f8dd0/jiter-0.8.2-cp311-cp311-macosx_11_0_arm64.whl.metadata\n",
      "  Downloading jiter-0.8.2-cp311-cp311-macosx_11_0_arm64.whl.metadata (5.2 kB)\n",
      "Requirement already satisfied: sniffio in /Users/roshnivenkat/anaconda3/lib/python3.11/site-packages (from openai<2.0.0,>=1.58.1->langchain-openai) (1.2.0)\n",
      "Requirement already satisfied: tqdm>4 in /Users/roshnivenkat/anaconda3/lib/python3.11/site-packages (from openai<2.0.0,>=1.58.1->langchain-openai) (4.65.0)\n",
      "Requirement already satisfied: regex>=2022.1.18 in /Users/roshnivenkat/anaconda3/lib/python3.11/site-packages (from tiktoken<1,>=0.7->langchain-openai) (2022.7.9)\n",
      "Requirement already satisfied: requests>=2.26.0 in /Users/roshnivenkat/anaconda3/lib/python3.11/site-packages (from tiktoken<1,>=0.7->langchain-openai) (2.31.0)\n",
      "Requirement already satisfied: idna>=2.8 in /Users/roshnivenkat/anaconda3/lib/python3.11/site-packages (from anyio<5,>=3.5.0->openai<2.0.0,>=1.58.1->langchain-openai) (3.4)\n",
      "Requirement already satisfied: certifi in /Users/roshnivenkat/anaconda3/lib/python3.11/site-packages (from httpx<1,>=0.23.0->openai<2.0.0,>=1.58.1->langchain-openai) (2023.7.22)\n",
      "Requirement already satisfied: httpcore==1.* in /Users/roshnivenkat/anaconda3/lib/python3.11/site-packages (from httpx<1,>=0.23.0->openai<2.0.0,>=1.58.1->langchain-openai) (1.0.7)\n",
      "Requirement already satisfied: h11<0.15,>=0.13 in /Users/roshnivenkat/anaconda3/lib/python3.11/site-packages (from httpcore==1.*->httpx<1,>=0.23.0->openai<2.0.0,>=1.58.1->langchain-openai) (0.14.0)\n",
      "Requirement already satisfied: jsonpointer>=1.9 in /Users/roshnivenkat/anaconda3/lib/python3.11/site-packages (from jsonpatch<2.0,>=1.33->langchain-core<1.0.0,>=0.3.35->langchain-openai) (2.1)\n",
      "Requirement already satisfied: orjson<4.0.0,>=3.9.14 in /Users/roshnivenkat/anaconda3/lib/python3.11/site-packages (from langsmith<0.4,>=0.1.125->langchain-core<1.0.0,>=0.3.35->langchain-openai) (3.10.15)\n",
      "Requirement already satisfied: requests-toolbelt<2.0.0,>=1.0.0 in /Users/roshnivenkat/anaconda3/lib/python3.11/site-packages (from langsmith<0.4,>=0.1.125->langchain-core<1.0.0,>=0.3.35->langchain-openai) (1.0.0)\n",
      "Requirement already satisfied: zstandard<0.24.0,>=0.23.0 in /Users/roshnivenkat/anaconda3/lib/python3.11/site-packages (from langsmith<0.4,>=0.1.125->langchain-core<1.0.0,>=0.3.35->langchain-openai) (0.23.0)\n",
      "Requirement already satisfied: annotated-types>=0.6.0 in /Users/roshnivenkat/anaconda3/lib/python3.11/site-packages (from pydantic<3.0.0,>=2.5.2->langchain-core<1.0.0,>=0.3.35->langchain-openai) (0.7.0)\n",
      "Requirement already satisfied: pydantic-core==2.27.2 in /Users/roshnivenkat/anaconda3/lib/python3.11/site-packages (from pydantic<3.0.0,>=2.5.2->langchain-core<1.0.0,>=0.3.35->langchain-openai) (2.27.2)\n",
      "Requirement already satisfied: charset-normalizer<4,>=2 in /Users/roshnivenkat/anaconda3/lib/python3.11/site-packages (from requests>=2.26.0->tiktoken<1,>=0.7->langchain-openai) (2.0.4)\n",
      "Requirement already satisfied: urllib3<3,>=1.21.1 in /Users/roshnivenkat/anaconda3/lib/python3.11/site-packages (from requests>=2.26.0->tiktoken<1,>=0.7->langchain-openai) (1.26.16)\n",
      "Downloading langchain_openai-0.3.6-py3-none-any.whl (54 kB)\n",
      "\u001b[2K   \u001b[90m━━━━━━━━━━━━━━━━━━━━━━━━━━━━━━━━━━━━━━━━\u001b[0m \u001b[32m54.9/54.9 kB\u001b[0m \u001b[31m4.6 MB/s\u001b[0m eta \u001b[36m0:00:00\u001b[0m\n",
      "\u001b[?25hDownloading openai-1.64.0-py3-none-any.whl (472 kB)\n",
      "\u001b[2K   \u001b[90m━━━━━━━━━━━━━━━━━━━━━━━━━━━━━━━━━━━━━━━━\u001b[0m \u001b[32m472.3/472.3 kB\u001b[0m \u001b[31m14.7 MB/s\u001b[0m eta \u001b[36m0:00:00\u001b[0m\n",
      "\u001b[?25hDownloading tiktoken-0.9.0-cp311-cp311-macosx_11_0_arm64.whl (1.0 MB)\n",
      "\u001b[2K   \u001b[90m━━━━━━━━━━━━━━━━━━━━━━━━━━━━━━━━━━━━━━━━\u001b[0m \u001b[32m1.0/1.0 MB\u001b[0m \u001b[31m28.8 MB/s\u001b[0m eta \u001b[36m0:00:00\u001b[0m00:01\u001b[0m\n",
      "\u001b[?25hDownloading distro-1.9.0-py3-none-any.whl (20 kB)\n",
      "Downloading jiter-0.8.2-cp311-cp311-macosx_11_0_arm64.whl (311 kB)\n",
      "\u001b[2K   \u001b[90m━━━━━━━━━━━━━━━━━━━━━━━━━━━━━━━━━━━━━━━━\u001b[0m \u001b[32m311.9/311.9 kB\u001b[0m \u001b[31m21.2 MB/s\u001b[0m eta \u001b[36m0:00:00\u001b[0m\n",
      "\u001b[?25hInstalling collected packages: jiter, distro, tiktoken, openai, langchain-openai\n",
      "Successfully installed distro-1.9.0 jiter-0.8.2 langchain-openai-0.3.6 openai-1.64.0 tiktoken-0.9.0\n",
      "Requirement already satisfied: neo4j in /Users/roshnivenkat/anaconda3/lib/python3.11/site-packages (5.28.1)\n",
      "Requirement already satisfied: pytz in /Users/roshnivenkat/anaconda3/lib/python3.11/site-packages (from neo4j) (2022.7)\n",
      "Requirement already satisfied: openai in /Users/roshnivenkat/anaconda3/lib/python3.11/site-packages (1.64.0)\n",
      "Requirement already satisfied: anyio<5,>=3.5.0 in /Users/roshnivenkat/anaconda3/lib/python3.11/site-packages (from openai) (3.5.0)\n",
      "Requirement already satisfied: distro<2,>=1.7.0 in /Users/roshnivenkat/anaconda3/lib/python3.11/site-packages (from openai) (1.9.0)\n",
      "Requirement already satisfied: httpx<1,>=0.23.0 in /Users/roshnivenkat/anaconda3/lib/python3.11/site-packages (from openai) (0.28.1)\n",
      "Requirement already satisfied: jiter<1,>=0.4.0 in /Users/roshnivenkat/anaconda3/lib/python3.11/site-packages (from openai) (0.8.2)\n",
      "Requirement already satisfied: pydantic<3,>=1.9.0 in /Users/roshnivenkat/anaconda3/lib/python3.11/site-packages (from openai) (2.10.6)\n",
      "Requirement already satisfied: sniffio in /Users/roshnivenkat/anaconda3/lib/python3.11/site-packages (from openai) (1.2.0)\n",
      "Requirement already satisfied: tqdm>4 in /Users/roshnivenkat/anaconda3/lib/python3.11/site-packages (from openai) (4.65.0)\n",
      "Requirement already satisfied: typing-extensions<5,>=4.11 in /Users/roshnivenkat/anaconda3/lib/python3.11/site-packages (from openai) (4.12.2)\n",
      "Requirement already satisfied: idna>=2.8 in /Users/roshnivenkat/anaconda3/lib/python3.11/site-packages (from anyio<5,>=3.5.0->openai) (3.4)\n",
      "Requirement already satisfied: certifi in /Users/roshnivenkat/anaconda3/lib/python3.11/site-packages (from httpx<1,>=0.23.0->openai) (2023.7.22)\n",
      "Requirement already satisfied: httpcore==1.* in /Users/roshnivenkat/anaconda3/lib/python3.11/site-packages (from httpx<1,>=0.23.0->openai) (1.0.7)\n",
      "Requirement already satisfied: h11<0.15,>=0.13 in /Users/roshnivenkat/anaconda3/lib/python3.11/site-packages (from httpcore==1.*->httpx<1,>=0.23.0->openai) (0.14.0)\n",
      "Requirement already satisfied: annotated-types>=0.6.0 in /Users/roshnivenkat/anaconda3/lib/python3.11/site-packages (from pydantic<3,>=1.9.0->openai) (0.7.0)\n",
      "Requirement already satisfied: pydantic-core==2.27.2 in /Users/roshnivenkat/anaconda3/lib/python3.11/site-packages (from pydantic<3,>=1.9.0->openai) (2.27.2)\n"
     ]
    },
    {
     "name": "stdout",
     "output_type": "stream",
     "text": [
      "Requirement already satisfied: tiktoken in /Users/roshnivenkat/anaconda3/lib/python3.11/site-packages (0.9.0)\n",
      "Requirement already satisfied: regex>=2022.1.18 in /Users/roshnivenkat/anaconda3/lib/python3.11/site-packages (from tiktoken) (2022.7.9)\n",
      "Requirement already satisfied: requests>=2.26.0 in /Users/roshnivenkat/anaconda3/lib/python3.11/site-packages (from tiktoken) (2.31.0)\n",
      "Requirement already satisfied: charset-normalizer<4,>=2 in /Users/roshnivenkat/anaconda3/lib/python3.11/site-packages (from requests>=2.26.0->tiktoken) (2.0.4)\n",
      "Requirement already satisfied: idna<4,>=2.5 in /Users/roshnivenkat/anaconda3/lib/python3.11/site-packages (from requests>=2.26.0->tiktoken) (3.4)\n",
      "Requirement already satisfied: urllib3<3,>=1.21.1 in /Users/roshnivenkat/anaconda3/lib/python3.11/site-packages (from requests>=2.26.0->tiktoken) (1.26.16)\n",
      "Requirement already satisfied: certifi>=2017.4.17 in /Users/roshnivenkat/anaconda3/lib/python3.11/site-packages (from requests>=2.26.0->tiktoken) (2023.7.22)\n",
      "Collecting graphdatascience\n",
      "  Obtaining dependency information for graphdatascience from https://files.pythonhosted.org/packages/4b/58/2befa5b7390c6b7dcdb07ea53cc50b47f12b47d72d5d9f7bbf70410b65ea/graphdatascience-1.14-py3-none-any.whl.metadata\n",
      "  Downloading graphdatascience-1.14-py3-none-any.whl.metadata (7.8 kB)\n",
      "Collecting multimethod<3.0,>=1.0 (from graphdatascience)\n",
      "  Obtaining dependency information for multimethod<3.0,>=1.0 from https://files.pythonhosted.org/packages/84/42/a285fc4b89b3a249538954779cd4082a85bf35dc7d0a9c93e48e146e3dc7/multimethod-2.0-py3-none-any.whl.metadata\n",
      "  Downloading multimethod-2.0-py3-none-any.whl.metadata (9.2 kB)\n",
      "Requirement already satisfied: neo4j<6.0,>=4.4.12 in /Users/roshnivenkat/anaconda3/lib/python3.11/site-packages (from graphdatascience) (5.28.1)\n",
      "Requirement already satisfied: numpy<2.3 in /Users/roshnivenkat/anaconda3/lib/python3.11/site-packages (from graphdatascience) (1.26.4)\n",
      "Requirement already satisfied: pandas<3.0,>=1.0 in /Users/roshnivenkat/anaconda3/lib/python3.11/site-packages (from graphdatascience) (1.5.3)\n",
      "Collecting pyarrow<20.0,>=16.0 (from graphdatascience)\n",
      "  Obtaining dependency information for pyarrow<20.0,>=16.0 from https://files.pythonhosted.org/packages/a0/55/f1a8d838ec07fe3ca53edbe76f782df7b9aafd4417080eebf0b42aab0c52/pyarrow-19.0.1-cp311-cp311-macosx_12_0_arm64.whl.metadata\n",
      "  Downloading pyarrow-19.0.1-cp311-cp311-macosx_12_0_arm64.whl.metadata (3.3 kB)\n",
      "Requirement already satisfied: textdistance<5.0,>=4.0 in /Users/roshnivenkat/anaconda3/lib/python3.11/site-packages (from graphdatascience) (4.2.1)\n",
      "Requirement already satisfied: tqdm<5.0,>=4.0 in /Users/roshnivenkat/anaconda3/lib/python3.11/site-packages (from graphdatascience) (4.65.0)\n",
      "Requirement already satisfied: typing-extensions<5.0,>=4.0 in /Users/roshnivenkat/anaconda3/lib/python3.11/site-packages (from graphdatascience) (4.12.2)\n",
      "Requirement already satisfied: requests in /Users/roshnivenkat/anaconda3/lib/python3.11/site-packages (from graphdatascience) (2.31.0)\n",
      "Collecting tenacity>=9.0 (from graphdatascience)\n",
      "  Obtaining dependency information for tenacity>=9.0 from https://files.pythonhosted.org/packages/b6/cb/b86984bed139586d01532a587464b5805f12e397594f19f931c4c2fbfa61/tenacity-9.0.0-py3-none-any.whl.metadata\n",
      "  Downloading tenacity-9.0.0-py3-none-any.whl.metadata (1.2 kB)\n",
      "Requirement already satisfied: pytz in /Users/roshnivenkat/anaconda3/lib/python3.11/site-packages (from neo4j<6.0,>=4.4.12->graphdatascience) (2022.7)\n",
      "Requirement already satisfied: python-dateutil>=2.8.1 in /Users/roshnivenkat/anaconda3/lib/python3.11/site-packages (from pandas<3.0,>=1.0->graphdatascience) (2.8.2)\n",
      "Requirement already satisfied: charset-normalizer<4,>=2 in /Users/roshnivenkat/anaconda3/lib/python3.11/site-packages (from requests->graphdatascience) (2.0.4)\n",
      "Requirement already satisfied: idna<4,>=2.5 in /Users/roshnivenkat/anaconda3/lib/python3.11/site-packages (from requests->graphdatascience) (3.4)\n",
      "Requirement already satisfied: urllib3<3,>=1.21.1 in /Users/roshnivenkat/anaconda3/lib/python3.11/site-packages (from requests->graphdatascience) (1.26.16)\n",
      "Requirement already satisfied: certifi>=2017.4.17 in /Users/roshnivenkat/anaconda3/lib/python3.11/site-packages (from requests->graphdatascience) (2023.7.22)\n",
      "Requirement already satisfied: six>=1.5 in /Users/roshnivenkat/anaconda3/lib/python3.11/site-packages (from python-dateutil>=2.8.1->pandas<3.0,>=1.0->graphdatascience) (1.16.0)\n",
      "Downloading graphdatascience-1.14-py3-none-any.whl (1.7 MB)\n",
      "\u001b[2K   \u001b[90m━━━━━━━━━━━━━━━━━━━━━━━━━━━━━━━━━━━━━━━━\u001b[0m \u001b[32m1.7/1.7 MB\u001b[0m \u001b[31m12.5 MB/s\u001b[0m eta \u001b[36m0:00:00\u001b[0ma \u001b[36m0:00:01\u001b[0m\n",
      "\u001b[?25hDownloading multimethod-2.0-py3-none-any.whl (9.8 kB)\n",
      "Downloading pyarrow-19.0.1-cp311-cp311-macosx_12_0_arm64.whl (30.7 MB)\n",
      "\u001b[2K   \u001b[90m━━━━━━━━━━━━━━━━━━━━━━━━━━━━━━━━━━━━━━━━\u001b[0m \u001b[32m30.7/30.7 MB\u001b[0m \u001b[31m31.7 MB/s\u001b[0m eta \u001b[36m0:00:00\u001b[0m00:01\u001b[0m00:01\u001b[0m\n",
      "\u001b[?25hDownloading tenacity-9.0.0-py3-none-any.whl (28 kB)\n",
      "Installing collected packages: tenacity, pyarrow, multimethod, graphdatascience\n",
      "  Attempting uninstall: tenacity\n",
      "    Found existing installation: tenacity 8.2.2\n",
      "    Uninstalling tenacity-8.2.2:\n",
      "      Successfully uninstalled tenacity-8.2.2\n",
      "  Attempting uninstall: pyarrow\n",
      "    Found existing installation: pyarrow 11.0.0\n",
      "    Uninstalling pyarrow-11.0.0:\n",
      "      Successfully uninstalled pyarrow-11.0.0\n",
      "Successfully installed graphdatascience-1.14 multimethod-2.0 pyarrow-19.0.1 tenacity-9.0.0\n",
      "Collecting langchain-community\n",
      "  Obtaining dependency information for langchain-community from https://files.pythonhosted.org/packages/f7/95/8e0c46842040e58fc252d82bcddc7d02e1e874aad98fdf729d25978c09ae/langchain_community-0.3.18-py3-none-any.whl.metadata\n",
      "  Downloading langchain_community-0.3.18-py3-none-any.whl.metadata (2.4 kB)\n",
      "Requirement already satisfied: langchain-core<1.0.0,>=0.3.37 in /Users/roshnivenkat/anaconda3/lib/python3.11/site-packages (from langchain-community) (0.3.37)\n",
      "Requirement already satisfied: langchain<1.0.0,>=0.3.19 in /Users/roshnivenkat/anaconda3/lib/python3.11/site-packages (from langchain-community) (0.3.19)\n",
      "Requirement already satisfied: SQLAlchemy<3,>=1.4 in /Users/roshnivenkat/anaconda3/lib/python3.11/site-packages (from langchain-community) (2.0.29)\n",
      "Requirement already satisfied: requests<3,>=2 in /Users/roshnivenkat/anaconda3/lib/python3.11/site-packages (from langchain-community) (2.31.0)\n",
      "Requirement already satisfied: PyYAML>=5.3 in /Users/roshnivenkat/anaconda3/lib/python3.11/site-packages (from langchain-community) (6.0)\n",
      "Requirement already satisfied: aiohttp<4.0.0,>=3.8.3 in /Users/roshnivenkat/anaconda3/lib/python3.11/site-packages (from langchain-community) (3.8.3)\n",
      "Requirement already satisfied: tenacity!=8.4.0,<10,>=8.1.0 in /Users/roshnivenkat/anaconda3/lib/python3.11/site-packages (from langchain-community) (9.0.0)\n",
      "Collecting dataclasses-json<0.7,>=0.5.7 (from langchain-community)\n",
      "  Obtaining dependency information for dataclasses-json<0.7,>=0.5.7 from https://files.pythonhosted.org/packages/c3/be/d0d44e092656fe7a06b55e6103cbce807cdbdee17884a5367c68c9860853/dataclasses_json-0.6.7-py3-none-any.whl.metadata\n",
      "  Downloading dataclasses_json-0.6.7-py3-none-any.whl.metadata (25 kB)\n",
      "Collecting pydantic-settings<3.0.0,>=2.4.0 (from langchain-community)\n",
      "  Obtaining dependency information for pydantic-settings<3.0.0,>=2.4.0 from https://files.pythonhosted.org/packages/c1/a9/3b9642025174bbe67e900785fb99c9bfe91ea584b0b7126ff99945c24a0e/pydantic_settings-2.8.0-py3-none-any.whl.metadata\n",
      "  Downloading pydantic_settings-2.8.0-py3-none-any.whl.metadata (3.5 kB)\n",
      "Requirement already satisfied: langsmith<0.4,>=0.1.125 in /Users/roshnivenkat/anaconda3/lib/python3.11/site-packages (from langchain-community) (0.3.10)\n",
      "Collecting httpx-sse<1.0.0,>=0.4.0 (from langchain-community)\n",
      "  Obtaining dependency information for httpx-sse<1.0.0,>=0.4.0 from https://files.pythonhosted.org/packages/e1/9b/a181f281f65d776426002f330c31849b86b31fc9d848db62e16f03ff739f/httpx_sse-0.4.0-py3-none-any.whl.metadata\n",
      "  Downloading httpx_sse-0.4.0-py3-none-any.whl.metadata (9.0 kB)\n",
      "Requirement already satisfied: numpy<2,>=1.26.4 in /Users/roshnivenkat/anaconda3/lib/python3.11/site-packages (from langchain-community) (1.26.4)\n",
      "Requirement already satisfied: attrs>=17.3.0 in /Users/roshnivenkat/anaconda3/lib/python3.11/site-packages (from aiohttp<4.0.0,>=3.8.3->langchain-community) (23.2.0)\n",
      "Requirement already satisfied: charset-normalizer<3.0,>=2.0 in /Users/roshnivenkat/anaconda3/lib/python3.11/site-packages (from aiohttp<4.0.0,>=3.8.3->langchain-community) (2.0.4)\n",
      "Requirement already satisfied: multidict<7.0,>=4.5 in /Users/roshnivenkat/anaconda3/lib/python3.11/site-packages (from aiohttp<4.0.0,>=3.8.3->langchain-community) (6.0.2)\n",
      "Requirement already satisfied: async-timeout<5.0,>=4.0.0a3 in /Users/roshnivenkat/anaconda3/lib/python3.11/site-packages (from aiohttp<4.0.0,>=3.8.3->langchain-community) (4.0.2)\n",
      "Requirement already satisfied: yarl<2.0,>=1.0 in /Users/roshnivenkat/anaconda3/lib/python3.11/site-packages (from aiohttp<4.0.0,>=3.8.3->langchain-community) (1.8.1)\n",
      "Requirement already satisfied: frozenlist>=1.1.1 in /Users/roshnivenkat/anaconda3/lib/python3.11/site-packages (from aiohttp<4.0.0,>=3.8.3->langchain-community) (1.3.3)\n",
      "Requirement already satisfied: aiosignal>=1.1.2 in /Users/roshnivenkat/anaconda3/lib/python3.11/site-packages (from aiohttp<4.0.0,>=3.8.3->langchain-community) (1.2.0)\n"
     ]
    },
    {
     "name": "stdout",
     "output_type": "stream",
     "text": [
      "Collecting marshmallow<4.0.0,>=3.18.0 (from dataclasses-json<0.7,>=0.5.7->langchain-community)\n",
      "  Obtaining dependency information for marshmallow<4.0.0,>=3.18.0 from https://files.pythonhosted.org/packages/34/75/51952c7b2d3873b44a0028b1bd26a25078c18f92f256608e8d1dc61b39fd/marshmallow-3.26.1-py3-none-any.whl.metadata\n",
      "  Downloading marshmallow-3.26.1-py3-none-any.whl.metadata (7.3 kB)\n",
      "Requirement already satisfied: typing-inspect<1,>=0.4.0 in /Users/roshnivenkat/anaconda3/lib/python3.11/site-packages (from dataclasses-json<0.7,>=0.5.7->langchain-community) (0.8.0)\n",
      "Requirement already satisfied: langchain-text-splitters<1.0.0,>=0.3.6 in /Users/roshnivenkat/anaconda3/lib/python3.11/site-packages (from langchain<1.0.0,>=0.3.19->langchain-community) (0.3.6)\n",
      "Requirement already satisfied: pydantic<3.0.0,>=2.7.4 in /Users/roshnivenkat/anaconda3/lib/python3.11/site-packages (from langchain<1.0.0,>=0.3.19->langchain-community) (2.10.6)\n",
      "Requirement already satisfied: jsonpatch<2.0,>=1.33 in /Users/roshnivenkat/anaconda3/lib/python3.11/site-packages (from langchain-core<1.0.0,>=0.3.37->langchain-community) (1.33)\n",
      "Requirement already satisfied: packaging<25,>=23.2 in /Users/roshnivenkat/anaconda3/lib/python3.11/site-packages (from langchain-core<1.0.0,>=0.3.37->langchain-community) (23.2)\n",
      "Requirement already satisfied: typing-extensions>=4.7 in /Users/roshnivenkat/anaconda3/lib/python3.11/site-packages (from langchain-core<1.0.0,>=0.3.37->langchain-community) (4.12.2)\n",
      "Requirement already satisfied: httpx<1,>=0.23.0 in /Users/roshnivenkat/anaconda3/lib/python3.11/site-packages (from langsmith<0.4,>=0.1.125->langchain-community) (0.28.1)\n",
      "Requirement already satisfied: orjson<4.0.0,>=3.9.14 in /Users/roshnivenkat/anaconda3/lib/python3.11/site-packages (from langsmith<0.4,>=0.1.125->langchain-community) (3.10.15)\n",
      "Requirement already satisfied: requests-toolbelt<2.0.0,>=1.0.0 in /Users/roshnivenkat/anaconda3/lib/python3.11/site-packages (from langsmith<0.4,>=0.1.125->langchain-community) (1.0.0)\n",
      "Requirement already satisfied: zstandard<0.24.0,>=0.23.0 in /Users/roshnivenkat/anaconda3/lib/python3.11/site-packages (from langsmith<0.4,>=0.1.125->langchain-community) (0.23.0)\n",
      "Requirement already satisfied: python-dotenv>=0.21.0 in /Users/roshnivenkat/anaconda3/lib/python3.11/site-packages (from pydantic-settings<3.0.0,>=2.4.0->langchain-community) (1.0.1)\n",
      "Requirement already satisfied: idna<4,>=2.5 in /Users/roshnivenkat/anaconda3/lib/python3.11/site-packages (from requests<3,>=2->langchain-community) (3.4)\n",
      "Requirement already satisfied: urllib3<3,>=1.21.1 in /Users/roshnivenkat/anaconda3/lib/python3.11/site-packages (from requests<3,>=2->langchain-community) (1.26.16)\n",
      "Requirement already satisfied: certifi>=2017.4.17 in /Users/roshnivenkat/anaconda3/lib/python3.11/site-packages (from requests<3,>=2->langchain-community) (2023.7.22)\n",
      "Requirement already satisfied: anyio in /Users/roshnivenkat/anaconda3/lib/python3.11/site-packages (from httpx<1,>=0.23.0->langsmith<0.4,>=0.1.125->langchain-community) (3.5.0)\n",
      "Requirement already satisfied: httpcore==1.* in /Users/roshnivenkat/anaconda3/lib/python3.11/site-packages (from httpx<1,>=0.23.0->langsmith<0.4,>=0.1.125->langchain-community) (1.0.7)\n",
      "Requirement already satisfied: h11<0.15,>=0.13 in /Users/roshnivenkat/anaconda3/lib/python3.11/site-packages (from httpcore==1.*->httpx<1,>=0.23.0->langsmith<0.4,>=0.1.125->langchain-community) (0.14.0)\n",
      "Requirement already satisfied: jsonpointer>=1.9 in /Users/roshnivenkat/anaconda3/lib/python3.11/site-packages (from jsonpatch<2.0,>=1.33->langchain-core<1.0.0,>=0.3.37->langchain-community) (2.1)\n",
      "Requirement already satisfied: annotated-types>=0.6.0 in /Users/roshnivenkat/anaconda3/lib/python3.11/site-packages (from pydantic<3.0.0,>=2.7.4->langchain<1.0.0,>=0.3.19->langchain-community) (0.7.0)\n",
      "Requirement already satisfied: pydantic-core==2.27.2 in /Users/roshnivenkat/anaconda3/lib/python3.11/site-packages (from pydantic<3.0.0,>=2.7.4->langchain<1.0.0,>=0.3.19->langchain-community) (2.27.2)\n",
      "Requirement already satisfied: mypy-extensions>=0.3.0 in /Users/roshnivenkat/anaconda3/lib/python3.11/site-packages (from typing-inspect<1,>=0.4.0->dataclasses-json<0.7,>=0.5.7->langchain-community) (0.4.3)\n",
      "Requirement already satisfied: sniffio>=1.1 in /Users/roshnivenkat/anaconda3/lib/python3.11/site-packages (from anyio->httpx<1,>=0.23.0->langsmith<0.4,>=0.1.125->langchain-community) (1.2.0)\n",
      "Downloading langchain_community-0.3.18-py3-none-any.whl (2.5 MB)\n",
      "\u001b[2K   \u001b[90m━━━━━━━━━━━━━━━━━━━━━━━━━━━━━━━━━━━━━━━━\u001b[0m \u001b[32m2.5/2.5 MB\u001b[0m \u001b[31m21.7 MB/s\u001b[0m eta \u001b[36m0:00:00\u001b[0ma \u001b[36m0:00:01\u001b[0m\n",
      "\u001b[?25hDownloading dataclasses_json-0.6.7-py3-none-any.whl (28 kB)\n",
      "Downloading httpx_sse-0.4.0-py3-none-any.whl (7.8 kB)\n",
      "Downloading pydantic_settings-2.8.0-py3-none-any.whl (30 kB)\n",
      "Downloading marshmallow-3.26.1-py3-none-any.whl (50 kB)\n",
      "\u001b[2K   \u001b[90m━━━━━━━━━━━━━━━━━━━━━━━━━━━━━━━━━━━━━━━━\u001b[0m \u001b[32m50.9/50.9 kB\u001b[0m \u001b[31m6.1 MB/s\u001b[0m eta \u001b[36m0:00:00\u001b[0m\n",
      "\u001b[?25hInstalling collected packages: marshmallow, httpx-sse, dataclasses-json, pydantic-settings, langchain-community\n",
      "Successfully installed dataclasses-json-0.6.7 httpx-sse-0.4.0 langchain-community-0.3.18 marshmallow-3.26.1 pydantic-settings-2.8.0\n"
     ]
    }
   ],
   "source": [
    "!pip install langchain --upgrade\n",
    "!pip install -U langchain-openai\n",
    "!pip install -U neo4j\n",
    "!pip install -U openai\n",
    "!pip install -U tiktoken\n",
    "!pip install -U graphdatascience\n",
    "!pip install -U langchain-community"
   ]
  },
  {
   "cell_type": "code",
   "execution_count": 2,
   "id": "a6ff980c",
   "metadata": {},
   "outputs": [],
   "source": [
    "# Import required libraries\n",
    "import os\n",
    "import langchain\n",
    "from langchain_openai import ChatOpenAI\n",
    "from langchain.chains import GraphCypherQAChain\n",
    "from langchain.graphs import Neo4jGraph\n",
    "from langchain.vectorstores.neo4j_vector import Neo4jVector\n",
    "from langchain.embeddings.openai import OpenAIEmbeddings"
   ]
  },
  {
   "cell_type": "code",
   "execution_count": 15,
   "id": "eec2d234",
   "metadata": {},
   "outputs": [],
   "source": [
    "from neo4j import GraphDatabase\n",
    "url = \"bolt://localhost:7687\"\n",
    "username =\"neo4j\"\n",
    "password = \"password\"\n",
    "\n",
    "driver = GraphDatabase.driver(url, auth=(username,password))"
   ]
  },
  {
   "cell_type": "code",
   "execution_count": 17,
   "id": "3ca7ba0b",
   "metadata": {},
   "outputs": [],
   "source": [
    "# Create the graph using credentials\n",
    "graph = Neo4jGraph(\n",
    "    url=url,\n",
    "    username=username,\n",
    "    password=password\n",
    ")"
   ]
  },
  {
   "cell_type": "code",
   "execution_count": 19,
   "id": "de95c09d",
   "metadata": {},
   "outputs": [],
   "source": [
    "os.environ['OPENAI_API_KEY'] = \"secret_key\" # Removed key"
   ]
  },
  {
   "cell_type": "code",
   "execution_count": 21,
   "id": "4112bae6",
   "metadata": {},
   "outputs": [],
   "source": [
    "graph.refresh_schema()\n",
    "\n",
    "# Set up a GraphCypherQAChain using two different LLMs from OpenAI \n",
    "cypher_chain = GraphCypherQAChain.from_llm(\n",
    "    cypher_llm = ChatOpenAI(temperature=0, model_name='gpt-4'),\n",
    "    qa_llm = ChatOpenAI(temperature=0, model_name='gpt-3.5-turbo'), graph=graph, verbose=True, allow_dangerous_requests=True\n",
    ")"
   ]
  },
  {
   "cell_type": "code",
   "execution_count": 24,
   "id": "1c2910ee",
   "metadata": {},
   "outputs": [
    {
     "name": "stdout",
     "output_type": "stream",
     "text": [
      "EagerResult(records=[<Record p=<Node element_id='4:7337795a-2b91-4df5-80a2-157eb263c2f3:0' labels=frozenset({'Patient'}) properties={'HEALTHCARE_EXPENSES': 8446.49, 'LAST': 'Kris249', 'DOB': '2017-08-24', 'GENDER': 'M', 'ID': 'f0f3bc8d-ef38-49ce-a2bd-dfdda982b271', 'FIRST': 'Jacinto644'}>>, <Record p=<Node element_id='4:7337795a-2b91-4df5-80a2-157eb263c2f3:1' labels=frozenset({'Patient'}) properties={'HEALTHCARE_EXPENSES': 89893.4, 'LAST': 'Krajcik437', 'DOB': '2016-08-01', 'GENDER': 'F', 'ID': '067318a4-db8f-447f-8b6e-f2f61e9baaa5', 'FIRST': 'Alva958'}>>, <Record p=<Node element_id='4:7337795a-2b91-4df5-80a2-157eb263c2f3:2' labels=frozenset({'Patient'}) properties={'HEALTHCARE_EXPENSES': 577445.86, 'LAST': 'Fadel536', 'DOB': '1992-06-30', 'GENDER': 'M', 'ID': 'ae9efba3-ddc4-43f9-a781-f72019388548', 'FIRST': 'Jayson808'}>>, <Record p=<Node element_id='4:7337795a-2b91-4df5-80a2-157eb263c2f3:3' labels=frozenset({'Patient'}) properties={'HEALTHCARE_EXPENSES': 336701.72, 'LAST': 'Harris789', 'DOB': '2004-01-09', 'GENDER': 'F', 'ID': '199c586f-af16-4091-9998-ee4cfc02ee7a', 'FIRST': 'Jimmie93'}>>, <Record p=<Node element_id='4:7337795a-2b91-4df5-80a2-157eb263c2f3:4' labels=frozenset({'Patient'}) properties={'HEALTHCARE_EXPENSES': 484076.33999999997, 'LAST': 'Auer97', 'DOB': '1996-11-15', 'GENDER': 'M', 'ID': '353016ea-a0ff-4154-85bb-1cf8b6cedf20', 'FIRST': 'Gregorio366'}>>, <Record p=<Node element_id='4:7337795a-2b91-4df5-80a2-157eb263c2f3:5' labels=frozenset({'Patient'}) properties={'HEALTHCARE_EXPENSES': 22940.0, 'LAST': 'Mueller846', 'DOB': '2019-06-12', 'GENDER': 'F', 'ID': 'f58bf921-cba1-475a-b4f8-dc6fa3b8f89c', 'FIRST': 'Karyn217'}>>, <Record p=<Node element_id='4:7337795a-2b91-4df5-80a2-157eb263c2f3:6' labels=frozenset({'Patient'}) properties={'HEALTHCARE_EXPENSES': 793335.55, 'LAST': 'Feil794', 'DOB': '1983-12-12', 'GENDER': 'M', 'ID': 'b9fd2dd8-181b-494b-ab15-e9f286d668d9', 'FIRST': 'Milo271'}>>, <Record p=<Node element_id='4:7337795a-2b91-4df5-80a2-157eb263c2f3:7' labels=frozenset({'Patient'}) properties={'HEALTHCARE_EXPENSES': 709544.18, 'LAST': 'Gómez206', 'DOB': '1989-06-22', 'GENDER': 'M', 'ID': 'd22592ac-552f-4ecd-a63d-7663d77ce9ba', 'FIRST': 'José Eduardo181'}>>, <Record p=<Node element_id='4:7337795a-2b91-4df5-80a2-157eb263c2f3:8' labels=frozenset({'Patient'}) properties={'HEALTHCARE_EXPENSES': 730953.33, 'LAST': 'Metz686', 'DOB': '1991-07-31', 'GENDER': 'F', 'ID': '28658715-b770-4576-9a81-fbb2282a98ea', 'FIRST': 'Karyn217'}>>, <Record p=<Node element_id='4:7337795a-2b91-4df5-80a2-157eb263c2f3:9' labels=frozenset({'Patient'}) properties={'HEALTHCARE_EXPENSES': 389178.38, 'LAST': 'Greenfelder433', 'DOB': '2005-01-16', 'GENDER': 'M', 'ID': '055ae6fc-7e18-4a39-8058-64082ca6d515', 'FIRST': 'Jeffrey461'}>>], summary=<neo4j._work.summary.ResultSummary object at 0x11c1f7210>, keys=['p'])\n"
     ]
    }
   ],
   "source": [
    "print(driver.execute_query(\"MATCH (p:Patient) RETURN p LIMIT 10\"))"
   ]
  },
  {
   "cell_type": "code",
   "execution_count": 79,
   "id": "8214bcce",
   "metadata": {},
   "outputs": [
    {
     "name": "stdout",
     "output_type": "stream",
     "text": [
      "\n",
      "\n",
      "\u001b[1m> Entering new GraphCypherQAChain chain...\u001b[0m\n",
      "Generated Cypher:\n",
      "\u001b[32;1m\u001b[1;3mMATCH (e:Encounter) RETURN COUNT(e)\u001b[0m\n",
      "Full Context:\n",
      "\u001b[32;1m\u001b[1;3m[{'COUNT(e)': 321528}]\u001b[0m\n",
      "\n",
      "\u001b[1m> Finished chain.\u001b[0m\n"
     ]
    },
    {
     "data": {
      "text/plain": [
       "{'query': 'How many encounters are there?',\n",
       " 'result': 'There are 321,528 encounters.'}"
      ]
     },
     "execution_count": 79,
     "metadata": {},
     "output_type": "execute_result"
    }
   ],
   "source": [
    "cypher_chain.invoke(\"How many encounters are there?\")"
   ]
  },
  {
   "cell_type": "code",
   "execution_count": 78,
   "id": "5b549919",
   "metadata": {},
   "outputs": [
    {
     "name": "stdout",
     "output_type": "stream",
     "text": [
      "\n",
      "\n",
      "\u001b[1m> Entering new GraphCypherQAChain chain...\u001b[0m\n",
      "Generated Cypher:\n",
      "\u001b[32;1m\u001b[1;3mMATCH (c:Condition) RETURN COUNT(c)\u001b[0m\n",
      "Full Context:\n",
      "\u001b[32;1m\u001b[1;3m[{'COUNT(c)': 178}]\u001b[0m\n",
      "\n",
      "\u001b[1m> Finished chain.\u001b[0m\n"
     ]
    },
    {
     "data": {
      "text/plain": [
       "{'query': 'How many conditions are there?',\n",
       " 'result': 'There are 178 conditions.'}"
      ]
     },
     "execution_count": 78,
     "metadata": {},
     "output_type": "execute_result"
    }
   ],
   "source": [
    "cypher_chain.invoke(\"How many conditions are there?\")"
   ]
  },
  {
   "cell_type": "code",
   "execution_count": 40,
   "id": "bbc5f524",
   "metadata": {},
   "outputs": [
    {
     "name": "stdout",
     "output_type": "stream",
     "text": [
      "\n",
      "\n",
      "\u001b[1m> Entering new GraphCypherQAChain chain...\u001b[0m\n",
      "Generated Cypher:\n",
      "\u001b[32;1m\u001b[1;3mMATCH (p:Patient)-[:Has]->(c:Condition)\n",
      "WHERE NOT c.DESCRIPTION IN ['suspected COVID-19', 'COVID-19']\n",
      "RETURN c.DESCRIPTION AS Condition, COUNT(*) AS Frequency\n",
      "ORDER BY Frequency DESC\u001b[0m\n",
      "Full Context:\n",
      "\u001b[32;1m\u001b[1;3m[{'Condition': 'Suspected COVID-19', 'Frequency': 9106}, {'Condition': 'Fever (finding)', 'Frequency': 8083}, {'Condition': 'Cough (finding)', 'Frequency': 6202}, {'Condition': 'Body mass index 30+ - obesity (finding)', 'Frequency': 5002}, {'Condition': 'Loss of taste (finding)', 'Frequency': 4711}, {'Condition': 'Prediabetes', 'Frequency': 3917}, {'Condition': 'Anemia (disorder)', 'Frequency': 3650}, {'Condition': 'Fatigue (finding)', 'Frequency': 3516}, {'Condition': 'Hypertension', 'Frequency': 3168}, {'Condition': 'Sputum finding (finding)', 'Frequency': 2970}]\u001b[0m\n",
      "\n",
      "\u001b[1m> Finished chain.\u001b[0m\n"
     ]
    },
    {
     "data": {
      "text/plain": [
       "{'query': 'What are the most common conditions in patients apart from suspected COVID-19 and/or COVID-19?',\n",
       " 'result': 'Fever (finding), Cough (finding), Body mass index 30+ - obesity (finding), Loss of taste (finding), Prediabetes, Anemia (disorder), Fatigue (finding), Hypertension, Sputum finding (finding) are the most common conditions in patients apart from suspected COVID-19 and/or COVID-19.'}"
      ]
     },
     "execution_count": 40,
     "metadata": {},
     "output_type": "execute_result"
    }
   ],
   "source": [
    "cypher_chain.invoke(\"What are the most common conditions in patients apart from suspected COVID-19 and/or COVID-19?\")"
   ]
  },
  {
   "cell_type": "code",
   "execution_count": 27,
   "id": "e442fe9b",
   "metadata": {},
   "outputs": [
    {
     "name": "stdout",
     "output_type": "stream",
     "text": [
      "\n",
      "\n",
      "\u001b[1m> Entering new GraphCypherQAChain chain...\u001b[0m\n",
      "Generated Cypher:\n",
      "\u001b[32;1m\u001b[1;3mMATCH (p:Patient)-[:Treated_With]->(m:Medication)\n",
      "RETURN m.DESCRIPTION, COUNT(*) AS Prescriptions\n",
      "ORDER BY Prescriptions DESC\n",
      "LIMIT 5\u001b[0m\n",
      "Full Context:\n",
      "\u001b[32;1m\u001b[1;3m[{'m.DESCRIPTION': 'Acetaminophen 500 MG Oral Tablet', 'Prescriptions': 1867}, {'m.DESCRIPTION': '0.4 ML Enoxaparin sodium 100 MG/ML Prefilled Syringe', 'Prescriptions': 1790}, {'m.DESCRIPTION': 'Simvastatin 10 MG Oral Tablet', 'Prescriptions': 1534}, {'m.DESCRIPTION': 'NDA020503 200 ACTUAT Albuterol 0.09 MG/ACTUAT Metered Dose Inhaler', 'Prescriptions': 1310}, {'m.DESCRIPTION': '1 ML Enoxaparin sodium 150 MG/ML Prefilled Syringe', 'Prescriptions': 1176}]\u001b[0m\n",
      "\n",
      "\u001b[1m> Finished chain.\u001b[0m\n"
     ]
    },
    {
     "data": {
      "text/plain": [
       "{'query': 'What are the top 5 most prescribed medicines and how many times were the prescribed',\n",
       " 'result': 'The top 5 most prescribed medicines are Acetaminophen 500 MG Oral Tablet with 1867 prescriptions, 0.4 ML Enoxaparin sodium 100 MG/ML Prefilled Syringe with 1790 prescriptions, Simvastatin 10 MG Oral Tablet with 1534 prescriptions, NDA020503 200 ACTUAT Albuterol 0.09 MG/ACTUAT Metered Dose Inhaler with 1310 prescriptions, and 1 ML Enoxaparin sodium 150 MG/ML Prefilled Syringe with 1176 prescriptions.'}"
      ]
     },
     "execution_count": 27,
     "metadata": {},
     "output_type": "execute_result"
    }
   ],
   "source": [
    "cypher_chain.invoke(\"What are the top 5 most prescribed medicines and how many times were they prescribed?\")"
   ]
  },
  {
   "cell_type": "code",
   "execution_count": 80,
   "id": "b49df84f",
   "metadata": {},
   "outputs": [
    {
     "name": "stdout",
     "output_type": "stream",
     "text": [
      "\n",
      "\n",
      "\u001b[1m> Entering new GraphCypherQAChain chain...\u001b[0m\n",
      "Generated Cypher:\n",
      "\u001b[32;1m\u001b[1;3mMATCH (p:Patient)-[:Has]->(c:Condition), (p)-[:Treated_With]->(m:Medication)\n",
      "RETURN c.DESCRIPTION as Condition, COUNT(m) as Medication_Count\n",
      "ORDER BY Medication_Count DESC\n",
      "LIMIT 1\u001b[0m\n",
      "Full Context:\n",
      "\u001b[32;1m\u001b[1;3m[{'Condition': 'Suspected COVID-19', 'Medication_Count': 22434}]\u001b[0m\n",
      "\n",
      "\u001b[1m> Finished chain.\u001b[0m\n"
     ]
    },
    {
     "data": {
      "text/plain": [
       "{'query': 'Which condition needed the most medications?',\n",
       " 'result': 'Suspected COVID-19 needed the most medications.'}"
      ]
     },
     "execution_count": 80,
     "metadata": {},
     "output_type": "execute_result"
    }
   ],
   "source": [
    "cypher_chain.invoke(\"Which condition needed the most medications?\")"
   ]
  },
  {
   "cell_type": "code",
   "execution_count": 35,
   "id": "661962c6",
   "metadata": {},
   "outputs": [
    {
     "name": "stdout",
     "output_type": "stream",
     "text": [
      "\n",
      "\n",
      "\u001b[1m> Entering new GraphCypherQAChain chain...\u001b[0m\n",
      "Generated Cypher:\n",
      "\u001b[32;1m\u001b[1;3mMATCH (p:Patient)-[:Had]->(e:Encounter)\n",
      "RETURN e.REASONDESCRIPTION as Reason, COUNT(*) as Visit_Count\n",
      "ORDER BY Visit_Count DESC\u001b[0m\n",
      "Full Context:\n",
      "\u001b[32;1m\u001b[1;3m[{'Reason': None, 'Visit_Count': 250276}, {'Reason': 'Hyperlipidemia', 'Visit_Count': 26313}, {'Reason': 'Normal pregnancy', 'Visit_Count': 8464}, {'Reason': 'Chronic congestive heart failure (disorder)', 'Visit_Count': 4629}, {'Reason': 'Viral sinusitis (disorder)', 'Visit_Count': 3698}, {'Reason': 'COVID-19', 'Visit_Count': 2721}, {'Reason': 'Acute bronchitis (disorder)', 'Visit_Count': 2382}, {'Reason': 'Anemia (disorder)', 'Visit_Count': 2370}, {'Reason': 'Sinusitis (disorder)', 'Visit_Count': 1737}, {'Reason': 'Acute bacterial sinusitis (disorder)', 'Visit_Count': 1536}]\u001b[0m\n",
      "\n",
      "\u001b[1m> Finished chain.\u001b[0m\n"
     ]
    },
    {
     "data": {
      "text/plain": [
       "{'query': 'What are the main reasons for patients to visit?',\n",
       " 'result': 'The main reasons for patients to visit include Hyperlipidemia, Normal pregnancy, Chronic congestive heart failure, Viral sinusitis, COVID-19, Acute bronchitis, Anemia, Sinusitis, and Acute bacterial sinusitis.'}"
      ]
     },
     "execution_count": 35,
     "metadata": {},
     "output_type": "execute_result"
    }
   ],
   "source": [
    "cypher_chain.invoke(\"What are the main reasons for patients to visit?\")"
   ]
  },
  {
   "cell_type": "code",
   "execution_count": 60,
   "id": "cf248a70",
   "metadata": {},
   "outputs": [
    {
     "name": "stdout",
     "output_type": "stream",
     "text": [
      "\n",
      "\n",
      "\u001b[1m> Entering new GraphCypherQAChain chain...\u001b[0m\n",
      "Generated Cypher:\n",
      "\u001b[32;1m\u001b[1;3mMATCH (p:Patient)-[:Has]->(c:Condition {DESCRIPTION: 'COVID-19'})\n",
      "RETURN p.GENDER, COUNT(*) AS Total_Cases\n",
      "ORDER BY Total_Cases DESC;\u001b[0m\n",
      "Full Context:\n",
      "\u001b[32;1m\u001b[1;3m[{'p.GENDER': 'F', 'Total_Cases': 4625}, {'p.GENDER': 'M', 'Total_Cases': 4195}]\u001b[0m\n",
      "\n",
      "\u001b[1m> Finished chain.\u001b[0m\n"
     ]
    },
    {
     "data": {
      "text/plain": [
       "{'query': 'Which gender is more at risk from COVID-19 and by what percent?',\n",
       " 'result': 'Females are more at risk from COVID-19 by 10.1%.'}"
      ]
     },
     "execution_count": 60,
     "metadata": {},
     "output_type": "execute_result"
    }
   ],
   "source": [
    "cypher_chain.invoke(\"Which gender is more at risk from COVID-19 and by what percent?\")"
   ]
  },
  {
   "cell_type": "code",
   "execution_count": 86,
   "id": "bd65ae63",
   "metadata": {},
   "outputs": [
    {
     "name": "stdout",
     "output_type": "stream",
     "text": [
      "\n",
      "\n",
      "\u001b[1m> Entering new GraphCypherQAChain chain...\u001b[0m\n",
      "Generated Cypher:\n",
      "\u001b[32;1m\u001b[1;3mMATCH (p:Patient)-[:Has]->(c:Condition)\n",
      "WHERE c.DESCRIPTION = \"COVID-19\"\n",
      "RETURN c.START.year AS Year, COUNT(*) AS Cases\n",
      "ORDER BY Cases DESC\n",
      "LIMIT 5\u001b[0m\n",
      "Full Context:\n",
      "\u001b[32;1m\u001b[1;3m[{'Year': 2020, 'Cases': 8820}]\u001b[0m\n",
      "\n",
      "\u001b[1m> Finished chain.\u001b[0m\n"
     ]
    },
    {
     "data": {
      "text/plain": [
       "{'query': 'Which years had the most COVID-19 cases? Give me the top 5',\n",
       " 'result': '2020 had the most COVID-19 cases with a total of 8820.'}"
      ]
     },
     "execution_count": 86,
     "metadata": {},
     "output_type": "execute_result"
    }
   ],
   "source": [
    "cypher_chain.invoke(\"Which year had the most COVID-19 cases?\")"
   ]
  },
  {
   "cell_type": "code",
   "execution_count": 51,
   "id": "18c93eb6",
   "metadata": {},
   "outputs": [
    {
     "name": "stdout",
     "output_type": "stream",
     "text": [
      "\n",
      "\n",
      "\u001b[1m> Entering new GraphCypherQAChain chain...\u001b[0m\n",
      "Generated Cypher:\n",
      "\u001b[32;1m\u001b[1;3mMATCH (p:Patient)-[:Had]->(e:Encounter)\n",
      "RETURN p.ID, p.FIRST, p.LAST, COUNT(e) AS Care_Needed\n",
      "ORDER BY Care_Needed DESC\n",
      "LIMIT 10\u001b[0m\n",
      "Full Context:\n",
      "\u001b[32;1m\u001b[1;3m[{'p.ID': 'fef74b94-c2d9-4e22-bc4f-382c82152126', 'p.FIRST': 'Dallas143', 'p.LAST': 'Jones311', 'Care_Needed': 825}, {'p.ID': '66f888db-3cd2-463e-8fa5-43c50dec2a3c', 'p.FIRST': 'Devon268', 'p.LAST': 'Waelchi213', 'Care_Needed': 658}, {'p.ID': 'b7e10f32-477b-4a19-b6e4-5dca83d86574', 'p.FIRST': 'Jared66', 'p.LAST': 'Nienow652', 'Care_Needed': 611}, {'p.ID': '4d9a197a-0469-4144-9030-0c04654cb4a8', 'p.FIRST': 'Evelynn217', 'p.LAST': 'Auer97', 'Care_Needed': 605}, {'p.ID': '55786035-203e-463f-87cf-3fc6cbf8b119', 'p.FIRST': 'Joaquin141', 'p.LAST': 'Gaylord332', 'Care_Needed': 584}, {'p.ID': '9cd159bb-f711-45b3-a353-1e354587b488', 'p.FIRST': 'Mariella503', 'p.LAST': 'Brakus656', 'Care_Needed': 580}, {'p.ID': 'f93c04a1-b7b2-420d-9545-feab6d7dd1f0', 'p.FIRST': 'Saul605', 'p.LAST': 'Hessel84', 'Care_Needed': 544}, {'p.ID': 'e396584a-3b3a-44e2-838f-be05097ef6bb', 'p.FIRST': 'Elliott563', 'p.LAST': 'Towne435', 'Care_Needed': 535}, {'p.ID': '2606458d-2648-49aa-af43-594a26be575f', 'p.FIRST': 'Steve819', 'p.LAST': 'Paucek755', 'Care_Needed': 525}, {'p.ID': 'd988bba1-094c-4bfa-a74f-befd2ad8c60b', 'p.FIRST': 'Ross213', 'p.LAST': 'Cremin516', 'Care_Needed': 519}]\u001b[0m\n",
      "\n",
      "\u001b[1m> Finished chain.\u001b[0m\n"
     ]
    },
    {
     "data": {
      "text/plain": [
       "{'query': 'Which 10 patients needed the most care?',\n",
       " 'result': 'Dallas143 Jones311, Devon268 Waelchi213, Jared66 Nienow652, Evelynn217 Auer97, Joaquin141 Gaylord332, Mariella503 Brakus656, Saul605 Hessel84, Elliott563 Towne435, Steve819 Paucek755, Ross213 Cremin516 needed the most care.'}"
      ]
     },
     "execution_count": 51,
     "metadata": {},
     "output_type": "execute_result"
    }
   ],
   "source": [
    "cypher_chain.invoke(\"Which 10 patients needed the most care?\")"
   ]
  },
  {
   "cell_type": "code",
   "execution_count": 74,
   "id": "b55be4a5",
   "metadata": {},
   "outputs": [
    {
     "name": "stdout",
     "output_type": "stream",
     "text": [
      "\n",
      "\n",
      "\u001b[1m> Entering new GraphCypherQAChain chain...\u001b[0m\n",
      "Generated Cypher:\n",
      "\u001b[32;1m\u001b[1;3mMATCH (p:Patient {FIRST: 'Dallas143', LAST: 'Jones311'})-[:Has]->(c:Condition) RETURN c.DESCRIPTION\u001b[0m\n",
      "Full Context:\n",
      "\u001b[32;1m\u001b[1;3m[{'c.DESCRIPTION': 'Suspected COVID-19'}, {'c.DESCRIPTION': 'COVID-19'}, {'c.DESCRIPTION': 'Hypertension'}, {'c.DESCRIPTION': 'Anemia (disorder)'}, {'c.DESCRIPTION': 'Stroke'}, {'c.DESCRIPTION': 'Hyperlipidemia'}, {'c.DESCRIPTION': 'Diabetes'}, {'c.DESCRIPTION': 'Hypertriglyceridemia (disorder)'}, {'c.DESCRIPTION': 'Metabolic syndrome X (disorder)'}, {'c.DESCRIPTION': 'Atrial Fibrillation'}]\u001b[0m\n",
      "\n",
      "\u001b[1m> Finished chain.\u001b[0m\n"
     ]
    },
    {
     "data": {
      "text/plain": [
       "{'query': \"Give me a list of Dallas143 Jones311's conditions.\",\n",
       " 'result': \"Dallas143 Jones311's conditions are Suspected COVID-19, COVID-19, Hypertension, Anemia (disorder), Stroke, Hyperlipidemia, Diabetes, Hypertriglyceridemia (disorder), Metabolic syndrome X (disorder), and Atrial Fibrillation.\"}"
      ]
     },
     "execution_count": 74,
     "metadata": {},
     "output_type": "execute_result"
    }
   ],
   "source": [
    "cypher_chain.invoke(\"Give me a list of Dallas143 Jones311's conditions.\")"
   ]
  },
  {
   "cell_type": "code",
   "execution_count": 75,
   "id": "93627c41",
   "metadata": {},
   "outputs": [
    {
     "name": "stdout",
     "output_type": "stream",
     "text": [
      "\n",
      "\n",
      "\u001b[1m> Entering new GraphCypherQAChain chain...\u001b[0m\n",
      "Generated Cypher:\n",
      "\u001b[32;1m\u001b[1;3mMATCH (p:Patient {FIRST: 'Dallas143', LAST: 'Jones311'})-[:Treated_With]->(m:Medication) RETURN m.DESCRIPTION\u001b[0m\n",
      "Full Context:\n",
      "\u001b[32;1m\u001b[1;3m[{'m.DESCRIPTION': 'Naproxen sodium 220 MG Oral Tablet'}, {'m.DESCRIPTION': 'Simvastatin 10 MG Oral Tablet'}, {'m.DESCRIPTION': 'Atenolol 50 MG / Chlorthalidone 25 MG Oral Tablet'}, {'m.DESCRIPTION': 'Warfarin Sodium 5 MG Oral Tablet'}, {'m.DESCRIPTION': 'Verapamil Hydrochloride 40 MG'}, {'m.DESCRIPTION': 'Digoxin 0.125 MG Oral Tablet'}, {'m.DESCRIPTION': 'insulin human  isophane 70 UNT/ML / Regular Insulin  Human 30 UNT/ML Injectable Suspension [Humulin]'}, {'m.DESCRIPTION': '1 ML DOCEtaxel 20 MG/ML Injection'}, {'m.DESCRIPTION': '0.25 ML Leuprolide Acetate 30 MG/ML Prefilled Syringe'}, {'m.DESCRIPTION': '1 ML Epoetin Alfa 4000 UNT/ML Injection [Epogen]'}]\u001b[0m\n",
      "\n",
      "\u001b[1m> Finished chain.\u001b[0m\n"
     ]
    },
    {
     "data": {
      "text/plain": [
       "{'query': \"What medicines was Dallas143 Jones311's prescribed?\",\n",
       " 'result': 'Naproxen sodium 220 MG Oral Tablet, Simvastatin 10 MG Oral Tablet, Atenolol 50 MG / Chlorthalidone 25 MG Oral Tablet, Warfarin Sodium 5 MG Oral Tablet, Verapamil Hydrochloride 40 MG, Digoxin 0.125 MG Oral Tablet, insulin human isophane 70 UNT/ML / Regular Insulin Human 30 UNT/ML Injectable Suspension [Humulin], 1 ML DOCEtaxel 20 MG/ML Injection, 0.25 ML Leuprolide Acetate 30 MG/ML Prefilled Syringe, 1 ML Epoetin Alfa 4000 UNT/ML Injection [Epogen] were prescribed to Dallas143 Jones311.'}"
      ]
     },
     "execution_count": 75,
     "metadata": {},
     "output_type": "execute_result"
    }
   ],
   "source": [
    "cypher_chain.invoke(\"What medicines was Dallas143 Jones311's prescribed?\")"
   ]
  },
  {
   "cell_type": "code",
   "execution_count": 49,
   "id": "0c4a657a",
   "metadata": {},
   "outputs": [
    {
     "name": "stdout",
     "output_type": "stream",
     "text": [
      "\n",
      "\n",
      "\u001b[1m> Entering new GraphCypherQAChain chain...\u001b[0m\n",
      "Generated Cypher:\n",
      "\u001b[32;1m\u001b[1;3mMATCH (e:Encounter)\n",
      "RETURN SUM(e.BASE_ENCOUNTER_COST) as Total_Base_Cost, AVG(e.BASE_ENCOUNTER_COST) as Average_Cost\u001b[0m\n",
      "Full Context:\n",
      "\u001b[32;1m\u001b[1;3m[{'Total_Base_Cost': 41384293.83981927, 'Average_Cost': 128.71132168893573}]\u001b[0m\n",
      "\n",
      "\u001b[1m> Finished chain.\u001b[0m\n"
     ]
    },
    {
     "data": {
      "text/plain": [
       "{'query': 'What is the total base and average cost across all encounters?',\n",
       " 'result': 'The total base cost across all encounters is $41,384,293.84 and the average cost is $128.71.'}"
      ]
     },
     "execution_count": 49,
     "metadata": {},
     "output_type": "execute_result"
    }
   ],
   "source": [
    "cypher_chain.invoke(\"What is the total base and average cost across all encounters?\")"
   ]
  },
  {
   "cell_type": "code",
   "execution_count": 93,
   "id": "21b4fb6b",
   "metadata": {},
   "outputs": [
    {
     "name": "stdout",
     "output_type": "stream",
     "text": [
      "\n",
      "\n",
      "\u001b[1m> Entering new GraphCypherQAChain chain...\u001b[0m\n"
     ]
    },
    {
     "name": "stderr",
     "output_type": "stream",
     "text": [
      "[#C21A]  _: <CONNECTION> error: Failed to write data to connection IPv4Address(('localhost', 7687)) (ResolvedIPv4Address(('127.0.0.1', 7687))): BrokenPipeError(32, 'Broken pipe')\n",
      "Transaction failed and will be retried in 1.1653944351884098s (Failed to write data to connection IPv4Address(('localhost', 7687)) (ResolvedIPv4Address(('127.0.0.1', 7687))))\n"
     ]
    },
    {
     "name": "stdout",
     "output_type": "stream",
     "text": [
      "Generated Cypher:\n",
      "\u001b[32;1m\u001b[1;3mMATCH (p:Patient)-[:Treated_With]->(m:Medication)\n",
      "RETURN AVG(m.BASE_COST)\u001b[0m\n",
      "Full Context:\n",
      "\u001b[32;1m\u001b[1;3m[{'AVG(m.BASE_COST)': 310.1263191331463}]\u001b[0m\n",
      "\n",
      "\u001b[1m> Finished chain.\u001b[0m\n"
     ]
    },
    {
     "data": {
      "text/plain": [
       "{'query': 'What is the average cost of healthcare medicines prescribed to patients?',\n",
       " 'result': 'The average cost of healthcare medicines prescribed to patients is 310.1263191331463.'}"
      ]
     },
     "execution_count": 93,
     "metadata": {},
     "output_type": "execute_result"
    }
   ],
   "source": [
    "cypher_chain.invoke(\"What is the average cost of healthcare medicines prescribed to patients?\")"
   ]
  },
  {
   "cell_type": "code",
   "execution_count": 128,
   "id": "b84632cb",
   "metadata": {},
   "outputs": [],
   "source": [
    "from graphdatascience import GraphDataScience\n",
    "url = \"bolt://localhost:7687\"\n",
    "username =\"neo4j\"\n",
    "password = \"password\"\n",
    "\n",
    "# Create a GraphDataScience graph\n",
    "gds = GraphDataScience(url, auth=(username,password))"
   ]
  },
  {
   "cell_type": "code",
   "execution_count": 170,
   "id": "2ff2e7ba",
   "metadata": {},
   "outputs": [
    {
     "data": {
      "application/vnd.jupyter.widget-view+json": {
       "model_id": "1e9a7f3410f4402db89380e5a5269cf5",
       "version_major": 2,
       "version_minor": 0
      },
      "text/plain": [
       " Louvain:   0%|          | 0/100 [00:00<?, ?%/s]"
      ]
     },
     "metadata": {},
     "output_type": "display_data"
    },
    {
     "name": "stdout",
     "output_type": "stream",
     "text": [
      "Communities detected: 12206\n"
     ]
    }
   ],
   "source": [
    "# Add nodes and relationships\n",
    "G, result = gds.graph.project(\n",
    "    \"patient-condition-graph\",\n",
    "    {\"Patient\": {}, \"Condition\": {}},\n",
    "    {\n",
    "        \"Has\": {\"orientation\": \"UNDIRECTED\"},\n",
    "    }\n",
    ")\n",
    "\n",
    "result = gds.louvain.write(\n",
    "    G,\n",
    "    writeProperty=\"community\"\n",
    ")\n",
    "print(f\"Communities detected: {result['communityCount']}\")"
   ]
  },
  {
   "cell_type": "code",
   "execution_count": 171,
   "id": "b568682f",
   "metadata": {},
   "outputs": [
    {
     "name": "stdout",
     "output_type": "stream",
     "text": [
      "   Community Number  Patient Count\n",
      "0             99933             93\n",
      "1             34167             77\n",
      "2            101888             23\n",
      "3             91932             15\n",
      "4             77781              6\n",
      "5             33700              2\n",
      "6             40536              2\n",
      "7             97863              1\n",
      "8             97858              1\n",
      "9             97866              1\n"
     ]
    }
   ],
   "source": [
    "# Find the largest communities of patients\n",
    "largest_communities = \"\"\"\n",
    "MATCH (p:Patient)\n",
    "RETURN p.community AS community, COUNT(p) AS patient_count\n",
    "ORDER BY patient_count DESC\n",
    "LIMIT 10\n",
    "\"\"\"\n",
    "result = driver.execute_query(largest_communities)\n",
    "\n",
    "data = [{\"Community Number\": r[\"community\"], \"Patient Count\": r[\"patient_count\"]} for r in result.records]\n",
    "df = pd.DataFrame(data)\n",
    "print (df)"
   ]
  },
  {
   "cell_type": "code",
   "execution_count": 172,
   "id": "f11100fc",
   "metadata": {},
   "outputs": [
    {
     "name": "stdout",
     "output_type": "stream",
     "text": [
      "                 Condition  Patient Count\n",
      "0    Muscle pain (finding)             93\n",
      "1       Suspected COVID-19             93\n",
      "2     Joint pain (finding)             93\n",
      "3                 COVID-19             88\n",
      "4  Loss of taste (finding)             85\n"
     ]
    }
   ],
   "source": [
    "# Top 5 conditions prevailent in the largest community of patients\n",
    "conditions = \"\"\"\n",
    "MATCH (p:Patient)-[:Has]->(c:Condition)\n",
    "WITH p.community AS community, c.DESCRIPTION AS condition, COUNT(*) AS count\n",
    "ORDER BY count DESC\n",
    "LIMIT 5\n",
    "RETURN community, condition, count\n",
    "\"\"\"\n",
    "result = driver.execute_query(conditions)\n",
    "\n",
    "data = [{\"Condition\": r[\"condition\"], \"Patient Count\": r[\"count\"]} for r in result.records]\n",
    "df = pd.DataFrame(data)\n",
    "print (df)"
   ]
  },
  {
   "cell_type": "code",
   "execution_count": 179,
   "id": "08ffb0c5",
   "metadata": {},
   "outputs": [
    {
     "name": "stdout",
     "output_type": "stream",
     "text": [
      "                                Patient  Influence Score\n",
      "0  fef74b94-c2d9-4e22-bc4f-382c82152126       361.811375\n",
      "1  66f888db-3cd2-463e-8fa5-43c50dec2a3c       287.415866\n",
      "2  b7e10f32-477b-4a19-b6e4-5dca83d86574       264.431964\n",
      "3  4d9a197a-0469-4144-9030-0c04654cb4a8       262.201815\n",
      "4  55786035-203e-463f-87cf-3fc6cbf8b119       254.219288\n"
     ]
    }
   ],
   "source": [
    "# Find the patients that have the highest influence in spreading symptoms\n",
    "most_impact = \"\"\"\n",
    "CALL gds.pageRank.stream('patient-condition-graph')\n",
    "YIELD nodeId, score\n",
    "MATCH (p:Patient) WHERE id(p) = nodeId\n",
    "RETURN p.ID AS patient, score\n",
    "ORDER BY score DESC\n",
    "LIMIT 5\n",
    "\"\"\"\n",
    "\n",
    "result = driver.execute_query(most_impact)\n",
    "\n",
    "data = [{\"Patient\": r[\"patient\"], \"Influence Score\": r[\"score\"]} for r in result.records]\n",
    "df = pd.DataFrame(data)\n",
    "print(df)"
   ]
  },
  {
   "cell_type": "code",
   "execution_count": 110,
   "id": "df676797",
   "metadata": {},
   "outputs": [
    {
     "name": "stdout",
     "output_type": "stream",
     "text": [
      "Deceased Patients: 2352\n",
      "Total Patients: 12352\n",
      "Mortality Rate: 19.04%\n"
     ]
    }
   ],
   "source": [
    "# Compute mortality rate of all patients\n",
    "mortality_rate = '''\n",
    "MATCH (p:Patient)\n",
    "WITH COUNT(p) AS total_patients\n",
    "\n",
    "MATCH (p:Patient)\n",
    "WHERE p.DOD IS NOT NULL\n",
    "WITH total_patients, COUNT(p) AS deceased_patients\n",
    "\n",
    "RETURN deceased_patients, total_patients, \n",
    "       (toFloat(deceased_patients) / total_patients) * 100 AS mortality_rate\n",
    "'''\n",
    "\n",
    "result = driver.execute_query(mortality_rate)\n",
    "for record in result.records:\n",
    "    print(f\"Deceased Patients: {record['deceased_patients']}\")\n",
    "    print(f\"Total Patients: {record['total_patients']}\")\n",
    "    print(f\"Mortality Rate: {record['mortality_rate']:.2f}%\")"
   ]
  },
  {
   "cell_type": "code",
   "execution_count": 115,
   "id": "3d269b86",
   "metadata": {},
   "outputs": [
    {
     "name": "stdout",
     "output_type": "stream",
     "text": [
      "                                     Condition  Deceased Patients  \\\n",
      "0      Body mass index 30+ - obesity (finding)               1230   \n",
      "1                            Anemia (disorder)               1119   \n",
      "2                                  Prediabetes               1089   \n",
      "3                                 Hypertension                766   \n",
      "4                 Chronic sinusitis (disorder)                689   \n",
      "5  Chronic congestive heart failure (disorder)                618   \n",
      "6                               Hyperlipidemia                546   \n",
      "7               Miscarriage in first trimester                510   \n",
      "8                                    Pneumonia                482   \n",
      "9                       Coronary Heart Disease                455   \n",
      "\n",
      "   Mortality Rate (%)  \n",
      "0                1.09  \n",
      "1                0.99  \n",
      "2                0.96  \n",
      "3                0.68  \n",
      "4                0.61  \n",
      "5                0.55  \n",
      "6                0.48  \n",
      "7                0.45  \n",
      "8                0.43  \n",
      "9                0.40  \n"
     ]
    }
   ],
   "source": [
    "# Mortality rate by condition\n",
    "condition_mortality = '''\n",
    "MATCH (p:Patient)-[:Has]->(c:Condition)\n",
    "WHERE p.DOD IS NOT NULL\n",
    "WITH c.DESCRIPTION AS condition, COUNT(p) AS deceased_patients\n",
    "\n",
    "MATCH (p:Patient)-[:Has]->(c:Condition)\n",
    "WITH condition, deceased_patients, COUNT(p) AS total_patients\n",
    "\n",
    "RETURN condition, deceased_patients, total_patients, \n",
    "       (toFloat(deceased_patients) / total_patients) * 100 AS mortality_rate\n",
    "ORDER BY mortality_rate DESC\n",
    "'''\n",
    "\n",
    "result = driver.execute_query(condition_mortality)\n",
    "\n",
    "data = []\n",
    "for record in result.records:\n",
    "    data.append({\n",
    "        \"Condition\": record['condition'],\n",
    "        \"Deceased Patients\": record['deceased_patients'],\n",
    "        \"Mortality Rate (%)\": round(record['mortality_rate'], 2) \n",
    "    })\n",
    "\n",
    "df = pd.DataFrame(data)\n",
    "print(df.head(10))"
   ]
  }
 ],
 "metadata": {
  "kernelspec": {
   "display_name": "Python 3 (ipykernel)",
   "language": "python",
   "name": "python3"
  },
  "language_info": {
   "codemirror_mode": {
    "name": "ipython",
    "version": 3
   },
   "file_extension": ".py",
   "mimetype": "text/x-python",
   "name": "python",
   "nbconvert_exporter": "python",
   "pygments_lexer": "ipython3",
   "version": "3.11.4"
  }
 },
 "nbformat": 4,
 "nbformat_minor": 5
}
